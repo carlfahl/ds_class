{
 "cells": [
  {
   "cell_type": "markdown",
   "metadata": {},
   "source": [
    "## Intro to Python\n",
    "\n",
    "#### The Jupyter Notebook\n",
    "\n",
    "The Jupyter Notebook provides a space for working with python interactivily, while also saving the output of your python code.\n",
    "\n",
    "You can also write documentation to discribe your code.  Use Markdown syntax to style your text.  This cell is written in Markdown.\n",
    "\n",
    "Select any of the input cells and press Shift-Enter to rerun the code.\n",
    "\n",
    "#### Python IDEs\n",
    "\n",
    "##### PyCharm\n",
    "\n",
    "PyCharm is a full featured IDE available in a free community addition.  It can be downloaded from: https://www.jetbrains.com/pycharm/\n",
    "\n",
    "##### IDLE\n",
    "\n",
    "IDLE is the IDE that ships with Python by default.\n",
    "\n",
    "#### Comments\n",
    "\n",
    "Code comments in Python are preceded by a #. The code after the # is ignorned by the intepretor.\n",
    "\n",
    "#### Input/Output in Python\n",
    "\n",
    "Writing to standard output is via the print function."
   ]
  },
  {
   "cell_type": "code",
   "execution_count": 4,
   "metadata": {},
   "outputs": [
    {
     "name": "stdout",
     "output_type": "stream",
     "text": [
      "Hello World\n",
      "x=10y=20\n"
     ]
    }
   ],
   "source": [
    "print('Hello World') # Python 3 - print is called as a function.\n",
    "#print 'Hello World' # Python 2 - print is used as a statement.\n",
    "# Print multiple Items\n",
    "x = 10\n",
    "y = 20\n",
    "#print 'x=', x, 'y=', y # python2 style adds a space between\n",
    "print('x=', x, 'y=', y, sep='') "
   ]
  },
  {
   "cell_type": "code",
   "execution_count": 22,
   "metadata": {},
   "outputs": [
    {
     "name": "stdout",
     "output_type": "stream",
     "text": [
      "10\n",
      "10\n",
      "Input a value: 20\n",
      "20\n"
     ]
    }
   ],
   "source": [
    "# To take input from Standard input.\n",
    "x = input();\n",
    "print(x)\n",
    "y = input(\"Input a value: \") # To add a prompt.\n",
    "print(y)"
   ]
  },
  {
   "cell_type": "markdown",
   "metadata": {},
   "source": [
    "#### Data types in Python\n",
    "\n",
    "##### Primatives"
   ]
  },
  {
   "cell_type": "code",
   "execution_count": 5,
   "metadata": {},
   "outputs": [
    {
     "data": {
      "text/plain": [
       "2"
      ]
     },
     "execution_count": 5,
     "metadata": {},
     "output_type": "execute_result"
    }
   ],
   "source": [
    "# Python is dynamically typed.\n",
    "x = 'Name' # x is a sting \n",
    "x = 2 # now x is an int\n",
    "x # show x in output"
   ]
  },
  {
   "cell_type": "markdown",
   "metadata": {},
   "source": [
    "##### Data Structures\n",
    "\n",
    "###### Lists and tuples"
   ]
  },
  {
   "cell_type": "code",
   "execution_count": null,
   "metadata": {
    "collapsed": true
   },
   "outputs": [],
   "source": []
  },
  {
   "cell_type": "markdown",
   "metadata": {},
   "source": [
    "###### Dictionaries"
   ]
  },
  {
   "cell_type": "markdown",
   "metadata": {},
   "source": [
    "#### Arithmatic operations"
   ]
  },
  {
   "cell_type": "code",
   "execution_count": 7,
   "metadata": {},
   "outputs": [
    {
     "name": "stdout",
     "output_type": "stream",
     "text": [
      "4\n",
      "5\n",
      "100\n",
      "10.0\n",
      "2\n"
     ]
    },
    {
     "data": {
      "text/plain": [
       "8"
      ]
     },
     "execution_count": 7,
     "metadata": {},
     "output_type": "execute_result"
    }
   ],
   "source": [
    "# The python interpreter can be used as a calculator\n",
    "print(2 + 2)\n",
    "print(10 - 5)\n",
    "print(10 * 10)\n",
    "print(100 /10)\n",
    "print(12 % 5)\n",
    "2**3 # New power operator in Python3"
   ]
  },
  {
   "cell_type": "markdown",
   "metadata": {},
   "source": [
    "##### Assignment Operations"
   ]
  },
  {
   "cell_type": "code",
   "execution_count": 8,
   "metadata": {},
   "outputs": [
    {
     "name": "stdout",
     "output_type": "stream",
     "text": [
      "10\n",
      "10 20 30\n"
     ]
    }
   ],
   "source": [
    "# Basic Assignments\n",
    "x = 10\n",
    "print(x)\n",
    "\n",
    "# You can assign multiple variables at once.\n",
    "\n",
    "x, y, z = 10, 20, 30\n",
    "\n",
    "print(x,y,z)\n"
   ]
  },
  {
   "cell_type": "code",
   "execution_count": 10,
   "metadata": {},
   "outputs": [
    {
     "name": "stdout",
     "output_type": "stream",
     "text": [
      "20\n"
     ]
    }
   ],
   "source": [
    "# Assignment with arithmatic\n",
    "\n",
    "x = 10\n",
    "\n",
    "x += 10 # Add 10 to x.  the same as x = x + 10\n",
    "\n",
    "print(x)"
   ]
  },
  {
   "cell_type": "markdown",
   "metadata": {},
   "source": [
    "#### Loops and Conditionals\n",
    "\n"
   ]
  },
  {
   "cell_type": "code",
   "execution_count": 34,
   "metadata": {
    "scrolled": true
   },
   "outputs": [
    {
     "name": "stdout",
     "output_type": "stream",
     "text": [
      "0\n",
      "1\n",
      "2\n",
      "3\n",
      "4\n",
      "5\n",
      "6\n",
      "7\n",
      "8\n",
      "9\n"
     ]
    }
   ],
   "source": [
    "# For loops\n",
    "for i in range(10):\n",
    "    print(i)"
   ]
  },
  {
   "cell_type": "markdown",
   "metadata": {},
   "source": [
    "#### Map, Filter, and Reduce"
   ]
  },
  {
   "cell_type": "code",
   "execution_count": null,
   "metadata": {
    "collapsed": true
   },
   "outputs": [],
   "source": []
  },
  {
   "cell_type": "markdown",
   "metadata": {},
   "source": [
    "### Numpy\n",
    "\n",
    "Numpy provide numerical methods and data types that are particularily useful for working with arrays.  It provides a similar funcitonallity to MatLab.\n",
    "\n",
    "Here we create an array with the arange function:"
   ]
  },
  {
   "cell_type": "code",
   "execution_count": 9,
   "metadata": {},
   "outputs": [
    {
     "data": {
      "text/plain": [
       "array([0, 1, 2, 3, 4, 5, 6, 7, 8, 9])"
      ]
     },
     "execution_count": 9,
     "metadata": {},
     "output_type": "execute_result"
    }
   ],
   "source": [
    "import numpy as np\n",
    "np.arange(10)"
   ]
  },
  {
   "cell_type": "markdown",
   "metadata": {},
   "source": [
    "This works in a method similar to the range function of regular python."
   ]
  },
  {
   "cell_type": "code",
   "execution_count": null,
   "metadata": {
    "collapsed": true
   },
   "outputs": [],
   "source": []
  },
  {
   "cell_type": "markdown",
   "metadata": {
    "collapsed": true
   },
   "source": [
    "### Ploting \n",
    "\n",
    "#### matplotlib\n",
    "\n",
    "matplotlib provides a wide variety of ploting functionality in an easy to use interface\n",
    "\n",
    "##### 2D scatter plots"
   ]
  },
  {
   "cell_type": "code",
   "execution_count": 12,
   "metadata": {},
   "outputs": [
    {
     "data": {
      "image/png": "[encoded data removed]",
      "text/plain": [
       "<matplotlib.figure.Figure at 0x108e34d68>"
      ]
     },
     "metadata": {},
     "output_type": "display_data"
    },
    {
     "data": {
      "image/png": "[encoded data removed]",
      "text/plain": [
       "<matplotlib.figure.Figure at 0x108e341d0>"
      ]
     },
     "metadata": {},
     "output_type": "display_data"
    },
    {
     "data": {
      "image/png": "[encoded data removed]",
      "text/plain": [
       "<matplotlib.figure.Figure at 0x10a5dc320>"
      ]
     },
     "metadata": {},
     "output_type": "display_data"
    }
   ],
   "source": [
    "# make a simple line plot\n",
    "import numpy as np\n",
    "import matplotlib.pyplot as plt # Assigns the short name plt to the import matplotlib.pyplot\n",
    "data = np.arange(16)\n",
    "# if only a 1D array is provided.  The values will be the y-axis and the x-axis will be\n",
    "# the array index of each value.\n",
    "plt.plot(data) # make the plot object\n",
    "plt.xlabel('array index')\n",
    "plt.show() # display the plot\n",
    "plt.plot([1, 2, 3, 4], 'r--', [1, 4, 9, 16], 'bs', [10, 24, 54, 12], 'g^') # multiline plot\n",
    "plt.show()\n",
    "plt.plot()\n",
    "plt.show()"
   ]
  },
  {
   "cell_type": "markdown",
   "metadata": {},
   "source": [
    "##### Histograms"
   ]
  },
  {
   "cell_type": "code",
   "execution_count": 13,
   "metadata": {},
   "outputs": [
    {
     "ename": "SyntaxError",
     "evalue": "invalid syntax (<ipython-input-13-026a4887bac3>, line 7)",
     "output_type": "error",
     "traceback": [
      "\u001b[0;36m  File \u001b[0;32m\"<ipython-input-13-026a4887bac3>\"\u001b[0;36m, line \u001b[0;32m7\u001b[0m\n\u001b[0;31m    data =\u001b[0m\n\u001b[0m           ^\u001b[0m\n\u001b[0;31mSyntaxError\u001b[0m\u001b[0;31m:\u001b[0m invalid syntax\n"
     ]
    }
   ],
   "source": [
    "import matplotlib.pyplot as plt\n",
    "import numpy as np\n",
    "\n",
    "np.random.seed(5432098)\n",
    "\n",
    "\n",
    "data = \n",
    "\n",
    "data = "
   ]
  },
  {
   "cell_type": "markdown",
   "metadata": {},
   "source": [
    "##### Figures and subplots"
   ]
  },
  {
   "cell_type": "code",
   "execution_count": null,
   "metadata": {
    "collapsed": true
   },
   "outputs": [],
   "source": [
    "import matplotlib.pyplot as plt\n",
    "plt.figure()\n",
    "plt.subplot(221)\n",
    "plt.plot()\n",
    "plt.show()\n"
   ]
  },
  {
   "cell_type": "code",
   "execution_count": null,
   "metadata": {
    "collapsed": true
   },
   "outputs": [],
   "source": []
  },
  {
   "cell_type": "markdown",
   "metadata": {},
   "source": [
    "#### Seaborn\n",
    "\n",
    "The Seaborn package is based on the matplotlib package and provides better default styling and make statical plots easier to produce."
   ]
  },
  {
   "cell_type": "code",
   "execution_count": 16,
   "metadata": {},
   "outputs": [
    {
     "data": {
      "image/png": "[encoded data removed]",
      "text/plain": [
       "<matplotlib.figure.Figure at 0x10a40aeb8>"
      ]
     },
     "metadata": {},
     "output_type": "display_data"
    }
   ],
   "source": [
    "import numpy as np\n",
    "import matplotlib.pyplot as plt\n",
    "import seaborn as sns\n",
    "\n",
    "data = np.arange(16)\n",
    "\n",
    "# after importing seaborn matplotlib commands will produce output with the new defaults.\n",
    "plt.plot(data)\n",
    "plt.show()\n"
   ]
  },
  {
   "cell_type": "code",
   "execution_count": null,
   "metadata": {
    "collapsed": true
   },
   "outputs": [],
   "source": []
  }
 ],
 "metadata": {
  "kernelspec": {
   "display_name": "Python 3",
   "language": "python",
   "name": "python3"
  },
  "language_info": {
   "codemirror_mode": {
    "name": "ipython",
    "version": 3
   },
   "file_extension": ".py",
   "mimetype": "text/x-python",
   "name": "python",
   "nbconvert_exporter": "python",
   "pygments_lexer": "ipython3",
   "version": "3.6.1"
  }
 },
 "nbformat": 4,
 "nbformat_minor": 2
}
