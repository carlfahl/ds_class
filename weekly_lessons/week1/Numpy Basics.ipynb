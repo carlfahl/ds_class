{
 "cells": [
  {
   "cell_type": "markdown",
   "metadata": {},
   "source": [
    "### Numpy\n",
    "\n",
    "Numpy provide numerical methods and data types that are particularily useful for working with arrays.  It provides a similar funcitonallity to MatLab.\n",
    "\n",
    "Many of the methods of Numpy are vectorized\n",
    "\n",
    "Here we create an array with the arange function:"
   ]
  },
  {
   "cell_type": "code",
   "execution_count": 9,
   "metadata": {},
   "outputs": [
    {
     "data": {
      "text/plain": [
       "array([0, 1, 2, 3, 4, 5, 6, 7, 8, 9])"
      ]
     },
     "execution_count": 9,
     "metadata": {},
     "output_type": "execute_result"
    }
   ],
   "source": [
    "import numpy as np\n",
    "np.arange(10)"
   ]
  },
  {
   "cell_type": "markdown",
   "metadata": {},
   "source": [
    "This works in a method similar to the range function of regular python.\n",
    "\n",
    "#### Array shape and dimension\n",
    "\n",
    "The following script illistrates basic array shape and resizing in numpy"
   ]
  },
  {
   "cell_type": "code",
   "execution_count": 22,
   "metadata": {},
   "outputs": [
    {
     "name": "stdout",
     "output_type": "stream",
     "text": [
      "[ 0  1  2  3  4  5  6  7  8  9 10 11 12 13 14 15]\n",
      "[[ 0  1  2  3]\n",
      " [ 4  5  6  7]\n",
      " [ 8  9 10 11]\n",
      " [12 13 14 15]]\n",
      "[[ 1.          1.55555556  2.11111111  2.66666667  3.22222222]\n",
      " [ 3.77777778  4.33333333  4.88888889  5.44444444  6.        ]]\n",
      "(4, 4)\n",
      "2\n",
      "int64\n",
      "16\n",
      "0\n",
      "15\n",
      "120\n",
      "[24 28 32 36]\n",
      "[ 6 22 38 54]\n"
     ]
    }
   ],
   "source": [
    "import sys\n",
    "import numpy as np\n",
    "\n",
    "def numpyIntro(argv):\n",
    "  '''\n",
    "  '''\n",
    "\n",
    "  # Create a dumy data set to run some functions on\n",
    "  # arange and linspace are two very useful ways of creating arrays.\n",
    "\n",
    "  myArray = np.arange(16)\n",
    "\n",
    "  print(myArray)  \n",
    "\n",
    "  myArray = myArray.reshape(4,4)\n",
    "\n",
    "  print(myArray)\n",
    "\n",
    "  # The linspace method creates an array from a given start value\n",
    "  # to a given end value with a given number of elements in the \n",
    "  # array.  The elements are spaced evenly\n",
    "  anotherArray = np.linspace(1,6,10).reshape(2,5)\n",
    "\n",
    "  print(anotherArray)\n",
    "\n",
    "  # Numpy provides easy to access parameters discribing the structure of an array.\n",
    "\n",
    "  # Print the shape of the array\n",
    "  print(myArray.shape)\n",
    "  # Print the number of dimensions of the array.  In this case\n",
    "  # a 2D array\n",
    "  print(myArray.ndim)\n",
    "  # Print out the type of the data.\n",
    "  print(myArray.dtype)\n",
    "  print(myArray.size)\n",
    "\n",
    "  # Numpy arrays have basic property methods for finding min, max and sum\n",
    "  print(myArray.min())\n",
    "  print(myArray.max())\n",
    "  print(myArray.sum())\n",
    "\n",
    "  print(myArray.sum(axis=0)) # sums the colums\n",
    "  print(myArray.sum(axis=1)) # sums the rows\n",
    "\n",
    "if __name__ == \"__main__\":\n",
    "  numpyIntro(sys.argv[1:]);"
   ]
  },
  {
   "cell_type": "markdown",
   "metadata": {},
   "source": [
    "#### Creating Arrays\n",
    "\n",
    "Regular python lists can be converted to numpy arrays"
   ]
  },
  {
   "cell_type": "code",
   "execution_count": 35,
   "metadata": {},
   "outputs": [
    {
     "name": "stdout",
     "output_type": "stream",
     "text": [
      "[1 2 3 4 5]\n",
      "[ 7  8  9 10]\n",
      "[[ 0.  0.  0.  0.]\n",
      " [ 0.  0.  0.  0.]\n",
      " [ 0.  0.  0.  0.]]\n",
      "[[1 0 0 0]\n",
      " [0 2 0 0]\n",
      " [0 0 3 0]\n",
      " [0 0 0 4]]\n"
     ]
    }
   ],
   "source": [
    "import numpy as np\n",
    "\n",
    "li = [1,2,3,4,5]\n",
    "\n",
    "# Pass an array variable\n",
    "ar1 = np.array(li)\n",
    "\n",
    "print(ar1)\n",
    "\n",
    "# Pass an array ex\n",
    "ar2 = np.array([7,8,9,10])\n",
    "\n",
    "print(ar2)\n",
    "\n",
    "## Creating arrays of zeros and ones is a \n",
    "\n",
    "zeros1 = np.zeros( (3,4) )\n",
    "\n",
    "print(zeros1)\n",
    "\n",
    "# You can override the default data type by \n",
    "# including the dtype parameter.\n",
    "np.ones( (2,3,4), dtype=np.int16 )\n",
    "\n",
    "# Create a diagonal matrix\n",
    "\n",
    "diag = np.diag([1,2,3,4])\n",
    "\n",
    "print(diag)"
   ]
  },
  {
   "cell_type": "markdown",
   "metadata": {},
   "source": [
    "#### Basic operators\n",
    "\n",
    "Basic operations apply element by element.  All basic python arthimatic operations are supported."
   ]
  },
  {
   "cell_type": "code",
   "execution_count": 4,
   "metadata": {},
   "outputs": [
    {
     "name": "stdout",
     "output_type": "stream",
     "text": [
      "[0 1 2 3]\n",
      "[20 29 38 47]\n",
      "[30 39 48 57]\n"
     ]
    }
   ],
   "source": [
    "a = np.array( [20,30,40,50] )\n",
    "b = np.arange( 4 )\n",
    "print(b)\n",
    "\n",
    "c = a-b\n",
    "print(c)\n",
    "\n",
    "# += and similar modify the existing array\n",
    "\n",
    "c += 10\n",
    "\n",
    "print(c)"
   ]
  },
  {
   "cell_type": "markdown",
   "metadata": {},
   "source": [
    "#### Matix multiplication"
   ]
  },
  {
   "cell_type": "code",
   "execution_count": 15,
   "metadata": {},
   "outputs": [
    {
     "name": "stdout",
     "output_type": "stream",
     "text": [
      "[[ 2  3]\n",
      " [ 6 11]]\n",
      "[-2  4]\n",
      "[[ 3 11]\n",
      " [13 45]]\n",
      "[[ 0  0  0  0]\n",
      " [ 2  3  6 11]\n",
      " [ 4  6 12 22]\n",
      " [ 6  9 18 33]]\n"
     ]
    }
   ],
   "source": [
    "# * and *= act element by element.\n",
    "# For matix multiplication use numpy methods\n",
    "\n",
    "import numpy as np\n",
    "\n",
    "ar1 = np.arange(4).reshape(2,2)\n",
    "\n",
    "# Dot product\n",
    "ar2 = ar1.dot(ar1)\n",
    "\n",
    "print(ar2)\n",
    "\n",
    "# Cross product\n",
    "cross1 = np.cross(ar1, ar2)\n",
    "print(cross1)\n",
    "\n",
    "# Inner and outer products\n",
    "\n",
    "inner = np.inner(ar1,ar2)\n",
    "print(inner)\n",
    "\n",
    "outer = np.outer(ar1, ar2)\n",
    "print(outer)"
   ]
  },
  {
   "cell_type": "markdown",
   "metadata": {},
   "source": [
    "#### Indexing, Slicing, and Iterating\n",
    "\n",
    "Indexing, Slicing, and Iterating of Numpy arrays operate in much the same way as python lists"
   ]
  },
  {
   "cell_type": "code",
   "execution_count": 21,
   "metadata": {},
   "outputs": [
    {
     "name": "stdout",
     "output_type": "stream",
     "text": [
      "[ 0  1  2  3  4  5  6  7  8  9 10 11 12 13 14 15]\n",
      "4\n",
      "[2 3 4]\n",
      "[ 0  2  4  6  8 10 12 14]\n"
     ]
    }
   ],
   "source": [
    "import numpy as np\n",
    "\n",
    "ar1 = np.arange(16)\n",
    "\n",
    "# Slicing is by [start:end:spacing]\n",
    "\n",
    "print(ar1)\n",
    "\n",
    "# print the 5th element\n",
    "print(ar1[4])\n",
    "\n",
    "#print the second to the 4th element\n",
    "print(ar1[2:5])\n",
    "\n",
    "# print every even element\n",
    "# if start is missing -> first element\n",
    "# if end is missing -> last element\n",
    "print(ar1[::2])"
   ]
  },
  {
   "cell_type": "markdown",
   "metadata": {},
   "source": [
    "The slicings of multidimenal arrays are seperated by comas"
   ]
  },
  {
   "cell_type": "code",
   "execution_count": 25,
   "metadata": {},
   "outputs": [
    {
     "name": "stdout",
     "output_type": "stream",
     "text": [
      "[[ 0  1  2  3]\n",
      " [ 4  5  6  7]\n",
      " [ 8  9 10 11]\n",
      " [12 13 14 15]]\n",
      "[[ 0]\n",
      " [ 4]\n",
      " [ 8]\n",
      " [12]]\n",
      "[[0 1 2 3]]\n"
     ]
    }
   ],
   "source": [
    "import numpy as np\n",
    "\n",
    "ar1 = np.arange(16).reshape(4,4)\n",
    "\n",
    "print(ar1)\n",
    "print(ar1[: , :1]) # print the first column\n",
    "print(ar1[:1, :]) # print the first row"
   ]
  },
  {
   "cell_type": "markdown",
   "metadata": {},
   "source": [
    "#### Vector stacking"
   ]
  },
  {
   "cell_type": "code",
   "execution_count": null,
   "metadata": {
    "collapsed": true
   },
   "outputs": [],
   "source": [
    "import numpy as np\n",
    "\n"
   ]
  },
  {
   "cell_type": "markdown",
   "metadata": {},
   "source": [
    "#### Numpy histograms"
   ]
  },
  {
   "cell_type": "code",
   "execution_count": 34,
   "metadata": {},
   "outputs": [
    {
     "name": "stdout",
     "output_type": "stream",
     "text": [
      "[ 0.00532834  0.00399626  0.00666043  0.00266417  0.0093246   0.01598503\n",
      "  0.04662301  0.04662301  0.07859307  0.08658558  0.13320859  0.15318988\n",
      "  0.19581663  0.2451038   0.32636104  0.41294663  0.45157712  0.52084558\n",
      "  0.55814399  0.66337878  0.6607146   0.75795687  0.79525528  0.86718792\n",
      "  0.85519914  0.75129644  0.71133387  0.69534884  0.62474828  0.5195135\n",
      "  0.44891295  0.3490065   0.31836853  0.24110755  0.21046957  0.1412011\n",
      "  0.12121982  0.10656687  0.05861178  0.04262675  0.02264546  0.02264546\n",
      "  0.0093246   0.00532834  0.00532834  0.00799252  0.00133209  0.00399626\n",
      "  0.00133209  0.00133209]\n",
      "[ 0.22724534  0.30231558  0.37738581  0.45245605  0.52752628  0.60259651\n",
      "  0.67766675  0.75273698  0.82780722  0.90287745  0.97794769  1.05301792\n",
      "  1.12808815  1.20315839  1.27822862  1.35329886  1.42836909  1.50343932\n",
      "  1.57850956  1.65357979  1.72865003  1.80372026  1.87879049  1.95386073\n",
      "  2.02893096  2.1040012   2.17907143  2.25414167  2.3292119   2.40428213\n",
      "  2.47935237  2.5544226   2.62949284  2.70456307  2.7796333   2.85470354\n",
      "  2.92977377  3.00484401  3.07991424  3.15498448  3.23005471  3.30512494\n",
      "  3.38019518  3.45526541  3.53033565  3.60540588  3.68047611  3.75554635\n",
      "  3.83061658  3.90568682  3.98075705]\n"
     ]
    },
    {
     "data": {
      "image/png": "[encoded data removed]",
      "text/plain": [
       "<matplotlib.figure.Figure at 0x10e01b0f0>"
      ]
     },
     "metadata": {},
     "output_type": "display_data"
    }
   ],
   "source": [
    "import numpy as np\n",
    "import matplotlib.pyplot as plt\n",
    "\n",
    "# Build a vector of 10000 normal deviates with variance 0.5^2 and mean 2\n",
    "mu, sigma = 2, 0.5\n",
    "v = np.random.normal(mu,sigma,10000)\n",
    "\n",
    "(n, bins) = np.histogram(v, bins=50, normed=True) # Makes histogram without ploting\n",
    "print(n)\n",
    "print(bins)\n",
    "plt.plot(n)\n",
    "plt.show()"
   ]
  }
 ],
 "metadata": {
  "kernelspec": {
   "display_name": "Python 3",
   "language": "python",
   "name": "python3"
  },
  "language_info": {
   "codemirror_mode": {
    "name": "ipython",
    "version": 3
   },
   "file_extension": ".py",
   "mimetype": "text/x-python",
   "name": "python",
   "nbconvert_exporter": "python",
   "pygments_lexer": "ipython3",
   "version": "3.6.1"
  }
 },
 "nbformat": 4,
 "nbformat_minor": 2
}
