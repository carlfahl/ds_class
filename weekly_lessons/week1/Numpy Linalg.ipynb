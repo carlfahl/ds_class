{
 "cells": [
  {
   "cell_type": "markdown",
   "metadata": {},
   "source": [
    "### Numpy Linear Algebra\n",
    "\n",
    "#### solutions to Matrix equations\n",
    "\n",
    "A system of linear equations can be converted to a matrix equation and solved with numpy"
   ]
  },
  {
   "cell_type": "code",
   "execution_count": 17,
   "metadata": {},
   "outputs": [
    {
     "name": "stdout",
     "output_type": "stream",
     "text": [
      "[[ 3 -1]\n",
      " [-1 -1]]\n",
      "[[2]\n",
      " [6]]\n"
     ]
    },
    {
     "data": {
      "text/plain": [
       "array([[-1.],\n",
       "       [-5.]])"
      ]
     },
     "execution_count": 17,
     "metadata": {},
     "output_type": "execute_result"
    }
   ],
   "source": [
    "import numpy as np\n",
    "\n",
    "a = np.array([[3,-1], [-1,-1]])\n",
    "\n",
    "b = np.array([[2],[6]])\n",
    "\n",
    "print(a)\n",
    "print(b)\n",
    "\n",
    "np.linalg.solve(a,b)\n",
    "#np.linalg.lstsq(a,b)"
   ]
  },
  {
   "cell_type": "markdown",
   "metadata": {},
   "source": [
    "#### Matrix transformations"
   ]
  },
  {
   "cell_type": "code",
   "execution_count": 25,
   "metadata": {},
   "outputs": [
    {
     "name": "stdout",
     "output_type": "stream",
     "text": [
      "[[0 1]\n",
      " [2 3]]\n",
      "[[0 2]\n",
      " [1 3]]\n",
      "[[0 1]\n",
      " [2 3]]\n",
      "3\n",
      "[[-1.5  0.5]\n",
      " [ 1.   0. ]]\n"
     ]
    }
   ],
   "source": [
    "import numpy as np\n",
    "\n",
    "a = np.arange(4).reshape(2,2)\n",
    "\n",
    "print(a)\n",
    "print(a.transpose()) # a.transpose creates a new array, does not change a\n",
    "print(a)\n",
    "\n",
    "print(a.trace()) # sum the diagonal\n",
    "\n",
    "print(np.linalg.inv(a)) # find the inverse of a matrix\n"
   ]
  },
  {
   "cell_type": "markdown",
   "metadata": {},
   "source": [
    "#### Matrix values"
   ]
  },
  {
   "cell_type": "code",
   "execution_count": null,
   "metadata": {
    "collapsed": true
   },
   "outputs": [],
   "source": []
  },
  {
   "cell_type": "markdown",
   "metadata": {},
   "source": [
    "#### Eigenvectors and Eigenvalues"
   ]
  },
  {
   "cell_type": "code",
   "execution_count": 27,
   "metadata": {},
   "outputs": [
    {
     "data": {
      "text/plain": [
       "array([[ 0.70710678+0.j        ,  0.70710678-0.j        ],\n",
       "       [ 0.00000000-0.70710678j,  0.00000000+0.70710678j]])"
      ]
     },
     "execution_count": 27,
     "metadata": {},
     "output_type": "execute_result"
    }
   ],
   "source": [
    "import numpy as np\n",
    "\n",
    "w, v = np.linalg.eig(np.array([[1, -1], [1, 1]]))\n",
    "w; v\n"
   ]
  },
  {
   "cell_type": "markdown",
   "metadata": {},
   "source": [
    "#### Decompositions\n",
    "\n",
    "##### SVD\n",
    "\n",
    "Singular Value Decompositions (SVD) are very useful.  They are related to principle component analysis (PCA).  They can be used in data compression, pattern recognition, and \n",
    "\n",
    "The numpy.linalg.lstsq uses SVD to find solutions"
   ]
  },
  {
   "cell_type": "code",
   "execution_count": 31,
   "metadata": {},
   "outputs": [
    {
     "name": "stdout",
     "output_type": "stream",
     "text": [
      "[[ 3  2  2]\n",
      " [ 2  3 -2]]\n"
     ]
    },
    {
     "data": {
      "text/plain": [
       "(array([[-0.70710678, -0.70710678],\n",
       "        [-0.70710678,  0.70710678]]),\n",
       " array([ 5.,  3.]),\n",
       " array([[ -7.07106781e-01,  -7.07106781e-01,  -5.55111512e-17],\n",
       "        [ -2.35702260e-01,   2.35702260e-01,  -9.42809042e-01],\n",
       "        [ -6.66666667e-01,   6.66666667e-01,   3.33333333e-01]]))"
      ]
     },
     "execution_count": 31,
     "metadata": {},
     "output_type": "execute_result"
    }
   ],
   "source": [
    "import numpy as np\n",
    "\n",
    "testArray = np.array([[3, 2, 2], [2, 3, -2]])\n",
    "\n",
    "plotData = \n",
    "\n",
    "print(testArray)\n",
    "\n",
    "# Compute the SVD\n",
    "np.linalg.svd(testArray)"
   ]
  },
  {
   "cell_type": "markdown",
   "metadata": {},
   "source": [
    "##### QR Decompostion"
   ]
  },
  {
   "cell_type": "code",
   "execution_count": null,
   "metadata": {
    "collapsed": true
   },
   "outputs": [],
   "source": []
  },
  {
   "cell_type": "markdown",
   "metadata": {},
   "source": [
    "##### Cholesky Decompostion"
   ]
  },
  {
   "cell_type": "code",
   "execution_count": null,
   "metadata": {
    "collapsed": true
   },
   "outputs": [],
   "source": []
  },
  {
   "cell_type": "markdown",
   "metadata": {},
   "source": [
    "Scipy also has a linalg module that includes all the numpy linalg features with the addition of a few other methods.  These will be discussed when we work more with the scipy package."
   ]
  }
 ],
 "metadata": {
  "kernelspec": {
   "display_name": "Python 3",
   "language": "python",
   "name": "python3"
  },
  "language_info": {
   "codemirror_mode": {
    "name": "ipython",
    "version": 3
   },
   "file_extension": ".py",
   "mimetype": "text/x-python",
   "name": "python",
   "nbconvert_exporter": "python",
   "pygments_lexer": "ipython3",
   "version": "3.6.1"
  }
 },
 "nbformat": 4,
 "nbformat_minor": 2
}
