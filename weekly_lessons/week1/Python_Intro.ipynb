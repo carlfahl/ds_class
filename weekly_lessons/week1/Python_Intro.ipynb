{
 "cells": [
  {
   "cell_type": "markdown",
   "metadata": {},
   "source": [
    "## Intro to Python\n",
    "\n",
    "#### The Jupyter Notebook\n",
    "\n",
    "The Jupyter Notebook provides a space for working with python interactivily, while also saving the output of your python code.\n",
    "\n",
    "You can also write documentation to discribe your code.  Use Markdown syntax to style your text.  This cell is written in Markdown.\n",
    "\n",
    "Select any of the input cells and press Shift-Enter to rerun the code.\n",
    "\n",
    "##### Jupyter Extentions\n",
    "\n",
    "There are a useful set of extentions for the Jupyter notebook that can be install via:\n",
    "\n",
    "```\n",
    "pip install jupyter_contrib_nbextensions\n",
    "```\n",
    "\n",
    "\n",
    "#### Python IDEs\n",
    "\n",
    "##### PyCharm\n",
    "\n",
    "PyCharm is a full featured IDE available in a free community addition.  It can be downloaded from: https://www.jetbrains.com/pycharm/\n",
    "\n",
    "##### IDLE\n",
    "\n",
    "IDLE is the IDE that ships with Python by default.\n",
    "\n",
    "#### Comments\n",
    "\n",
    "Code comments in Python are preceded by a #. The code after the # is ignorned by the intepretor.\n",
    "\n",
    "#### Input/Output in Python\n",
    "\n",
    "Writing to standard output is via the print function."
   ]
  },
  {
   "cell_type": "code",
   "execution_count": 4,
   "metadata": {},
   "outputs": [
    {
     "name": "stdout",
     "output_type": "stream",
     "text": [
      "Hello World\n",
      "x=10y=20\n"
     ]
    }
   ],
   "source": [
    "print('Hello World') # Python 3 - print is called as a function.\n",
    "#print 'Hello World' # Python 2 - print is used as a statement.\n",
    "# Print multiple Items\n",
    "x = 10\n",
    "y = 20\n",
    "#print 'x=', x, 'y=', y # python2 style adds a space between\n",
    "print('x=', x, 'y=', y, sep='') "
   ]
  },
  {
   "cell_type": "code",
   "execution_count": 22,
   "metadata": {},
   "outputs": [
    {
     "name": "stdout",
     "output_type": "stream",
     "text": [
      "10\n",
      "10\n",
      "Input a value: 20\n",
      "20\n"
     ]
    }
   ],
   "source": [
    "# To take input from Standard input.\n",
    "x = input();\n",
    "print(x)\n",
    "y = input(\"Input a value: \") # To add a prompt.\n",
    "print(y)"
   ]
  },
  {
   "cell_type": "markdown",
   "metadata": {},
   "source": [
    "#### Data types in Python\n",
    "\n",
    "##### Primatives"
   ]
  },
  {
   "cell_type": "code",
   "execution_count": 5,
   "metadata": {},
   "outputs": [
    {
     "data": {
      "text/plain": [
       "2"
      ]
     },
     "execution_count": 5,
     "metadata": {},
     "output_type": "execute_result"
    }
   ],
   "source": [
    "# Python is dynamically typed.\n",
    "x = 'Name' # x is a sting \n",
    "x = 2 # now x is an int\n",
    "x # show x in output"
   ]
  },
  {
   "cell_type": "markdown",
   "metadata": {},
   "source": [
    "##### Data Structures\n",
    "\n",
    "###### Lists and tuples"
   ]
  },
  {
   "cell_type": "code",
   "execution_count": null,
   "metadata": {
    "collapsed": true
   },
   "outputs": [],
   "source": []
  },
  {
   "cell_type": "markdown",
   "metadata": {},
   "source": [
    "###### Dictionaries"
   ]
  },
  {
   "cell_type": "code",
   "execution_count": null,
   "metadata": {
    "collapsed": true
   },
   "outputs": [],
   "source": [
    "dict = {}"
   ]
  },
  {
   "cell_type": "markdown",
   "metadata": {},
   "source": [
    "#### Strings"
   ]
  },
  {
   "cell_type": "code",
   "execution_count": null,
   "metadata": {
    "collapsed": true
   },
   "outputs": [],
   "source": []
  },
  {
   "cell_type": "markdown",
   "metadata": {},
   "source": [
    "#### String formating"
   ]
  },
  {
   "cell_type": "markdown",
   "metadata": {},
   "source": [
    "#### Arithmatic operations"
   ]
  },
  {
   "cell_type": "code",
   "execution_count": 7,
   "metadata": {},
   "outputs": [
    {
     "name": "stdout",
     "output_type": "stream",
     "text": [
      "4\n",
      "5\n",
      "100\n",
      "10.0\n",
      "2\n"
     ]
    },
    {
     "data": {
      "text/plain": [
       "8"
      ]
     },
     "execution_count": 7,
     "metadata": {},
     "output_type": "execute_result"
    }
   ],
   "source": [
    "# The python interpreter can be used as a calculator\n",
    "print(2 + 2)\n",
    "print(10 - 5)\n",
    "print(10 * 10)\n",
    "print(100 /10)\n",
    "print(12 % 5)\n",
    "2**3 # New power operator in Python3"
   ]
  },
  {
   "cell_type": "markdown",
   "metadata": {},
   "source": [
    "##### Assignment Operations"
   ]
  },
  {
   "cell_type": "code",
   "execution_count": 8,
   "metadata": {},
   "outputs": [
    {
     "name": "stdout",
     "output_type": "stream",
     "text": [
      "10\n",
      "10 20 30\n"
     ]
    }
   ],
   "source": [
    "# Basic Assignments\n",
    "x = 10\n",
    "print(x)\n",
    "\n",
    "# You can assign multiple variables at once.\n",
    "\n",
    "x, y, z = 10, 20, 30\n",
    "\n",
    "print(x,y,z)\n"
   ]
  },
  {
   "cell_type": "code",
   "execution_count": 10,
   "metadata": {},
   "outputs": [
    {
     "name": "stdout",
     "output_type": "stream",
     "text": [
      "20\n"
     ]
    }
   ],
   "source": [
    "# Assignment with arithmatic\n",
    "\n",
    "x = 10\n",
    "\n",
    "x += 10 # Add 10 to x.  the same as x = x + 10\n",
    "\n",
    "print(x)"
   ]
  },
  {
   "cell_type": "markdown",
   "metadata": {},
   "source": [
    "#### Loops and Conditionals\n",
    "\n"
   ]
  },
  {
   "cell_type": "code",
   "execution_count": 34,
   "metadata": {
    "scrolled": true
   },
   "outputs": [
    {
     "name": "stdout",
     "output_type": "stream",
     "text": [
      "0\n",
      "1\n",
      "2\n",
      "3\n",
      "4\n",
      "5\n",
      "6\n",
      "7\n",
      "8\n",
      "9\n"
     ]
    }
   ],
   "source": [
    "# For loops\n",
    "for i in range(10):\n",
    "    print(i)"
   ]
  },
  {
   "cell_type": "markdown",
   "metadata": {},
   "source": [
    "#### Map, Filter, and Reduce"
   ]
  },
  {
   "cell_type": "code",
   "execution_count": null,
   "metadata": {
    "collapsed": true
   },
   "outputs": [],
   "source": []
  },
  {
   "cell_type": "markdown",
   "metadata": {},
   "source": [
    "#### Python Functions"
   ]
  },
  {
   "cell_type": "code",
   "execution_count": null,
   "metadata": {
    "collapsed": true
   },
   "outputs": [],
   "source": []
  },
  {
   "cell_type": "markdown",
   "metadata": {},
   "source": [
    "#### Lambda Functions"
   ]
  },
  {
   "cell_type": "code",
   "execution_count": null,
   "metadata": {
    "collapsed": true
   },
   "outputs": [],
   "source": []
  },
  {
   "cell_type": "markdown",
   "metadata": {},
   "source": [
    "### Using the System shell from Jupyther notebook.\n",
    "\n",
    "The Jupyter Notebook also integrates with the operating system shell.\n",
    "\n",
    "Input starting with ! will be sent to the system shell.  Here is an example of using the cat command."
   ]
  },
  {
   "cell_type": "code",
   "execution_count": 1,
   "metadata": {},
   "outputs": [
    {
     "name": "stdout",
     "output_type": "stream",
     "text": [
      "Name,PointsPerGame,AssistsPerGame\r",
      "Jon,20.4,1.3\r",
      "Rob,15.5,8\r",
      "Sharon,30.1,11.2\r",
      "Alex,8.2,0.5\r",
      "Rebecca,12.3,17\r",
      "Ariane,18.1,3\r",
      "Bryon,16,8.5\r",
      "Matt,13,2.1"
     ]
    }
   ],
   "source": [
    "!cat DataDotWorldBBallStats.csv"
   ]
  },
  {
   "cell_type": "code",
   "execution_count": null,
   "metadata": {
    "collapsed": true
   },
   "outputs": [],
   "source": []
  }
 ],
 "metadata": {
  "kernelspec": {
   "display_name": "Python 3",
   "language": "python",
   "name": "python3"
  },
  "language_info": {
   "codemirror_mode": {
    "name": "ipython",
    "version": 3
   },
   "file_extension": ".py",
   "mimetype": "text/x-python",
   "name": "python",
   "nbconvert_exporter": "python",
   "pygments_lexer": "ipython3",
   "version": "3.6.1"
  }
 },
 "nbformat": 4,
 "nbformat_minor": 2
}
