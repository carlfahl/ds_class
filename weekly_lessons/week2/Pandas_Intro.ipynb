{
 "cells": [
  {
   "cell_type": "markdown",
   "metadata": {},
   "source": [
    "## Introduction to Pandas\n",
    "\n",
    "### Installing Pandas\n",
    "\n",
    "For Python 2:\n",
    "```\n",
    "pip install django\n",
    "pip install pandas\n",
    "```\n",
    "\n",
    "For Python 3:\n",
    "```\n",
    "pip3 install django\n",
    "pip3 install pandas\n",
    "```\n",
    "\n",
    "### Intro to Pandas video\n",
    "\n",
    "http://vimeo.com/59324550\n",
    "\n",
    "### Pandas datatypes\n",
    "Pandas has two datatypes (or data structures) that will be of greatest interest in this course, the series and the dataframe.  The series is an array that can contain multiple datatypes\n",
    "\n",
    "### The series datatype\n",
    "\n",
    "A pandas series can be thought of as a more flexible numpy array.  A single series can hold multiple datatypes"
   ]
  },
  {
   "cell_type": "code",
   "execution_count": 2,
   "metadata": {},
   "outputs": [
    {
     "name": "stdout",
     "output_type": "stream",
     "text": [
      "0    0\n",
      "1    1\n",
      "2    2\n",
      "3    3\n",
      "4    4\n",
      "5    5\n",
      "6    6\n",
      "7    7\n",
      "8    8\n",
      "9    9\n",
      "dtype: int64\n",
      "3\n",
      "0             Bear\n",
      "1            Moose\n",
      "2    Mountain Goat\n",
      "dtype: object\n",
      "<pandas.core.indexing._LocIndexer object at 0x111b1cf28>\n"
     ]
    }
   ],
   "source": [
    "import pandas as pd\n",
    "import numpy as np\n",
    "\n",
    "import matplotlib.pyplot as plt\n",
    "\n",
    "# Jupyter Notebook magic function. \n",
    "# Make plots show without having to call plt.show()\n",
    "%matplotlib inline\n",
    "\n",
    "### Create a series in Pandas\n",
    "\n",
    "#### Create from a list\n",
    "\n",
    "li = range(10)\n",
    "\n",
    "# An index is automaticily created from the list index\n",
    "mySeries = pd.Series(li)\n",
    "\n",
    "print(mySeries)\n",
    "\n",
    "# Pandas series are indexed in the same way that python lists are indexed.\n",
    "\n",
    "print(mySeries[3])\n",
    "\n",
    "animals = ['Bear', 'Moose', 'Mountain Goat']\n",
    "\n",
    "animalsSeries = pd.Series(animals)\n",
    "\n",
    "print(animalsSeries)\n",
    "\n",
    "print(animalsSeries.loc('Bear'))\n",
    "## Note the different datatypes of these series."
   ]
  },
  {
   "cell_type": "code",
   "execution_count": 3,
   "metadata": {},
   "outputs": [
    {
     "data": {
      "text/plain": [
       "'Mountain Goat'"
      ]
     },
     "execution_count": 3,
     "metadata": {},
     "output_type": "execute_result"
    }
   ],
   "source": [
    "animalsSeries[2]"
   ]
  },
  {
   "cell_type": "markdown",
   "metadata": {},
   "source": [
    "We can also create data series from python dictionaries.  This will create an index that is the same as the dictionary index"
   ]
  },
  {
   "cell_type": "code",
   "execution_count": 4,
   "metadata": {},
   "outputs": [
    {
     "name": "stdout",
     "output_type": "stream",
     "text": [
      "{'Montana': 'Grizzly Bear', 'Al': 'Black Bear', 'AK': 'Moose', 'AZ': 'ring tailed cat', 'Arkansas': 'White Tail Deer', 'CA': 'Bear', 'CO': 'mountain goat', 'FL': 'panther'}\n",
      "==========\n",
      "AK                    Moose\n",
      "AZ          ring tailed cat\n",
      "Al               Black Bear\n",
      "Arkansas    White Tail Deer\n",
      "CA                     Bear\n",
      "CO            mountain goat\n",
      "FL                  panther\n",
      "Montana        Grizzly Bear\n",
      "dtype: object\n",
      "===========\n",
      "Grizzly Bear\n",
      "=========\n"
     ]
    },
    {
     "data": {
      "text/plain": [
       "'ring tailed cat'"
      ]
     },
     "execution_count": 4,
     "metadata": {},
     "output_type": "execute_result"
    }
   ],
   "source": [
    "# Create a dictionary of the state \n",
    "di = {\"Montana\": \"Grizzly Bear\", \"Al\": \"Black Bear\", \"AK\": \"Moose\", \"AZ\": \"ring tailed cat\", \"Arkansas\": \"White Tail Deer\", \"CA\": \"Bear\", \"CO\": \"mountain goat\", \"FL\": \"panther\"}\n",
    "\n",
    "print(di)\n",
    "print(\"==========\")\n",
    "\n",
    "stateAnimals = pd.Series(di)\n",
    "\n",
    "# When the dictionary is converted to a Series by Pandas, the\n",
    "# series is ordered by key value.  The python dictionary was not\n",
    "# ordered by keys.\n",
    "print(stateAnimals)\n",
    "print(\"===========\")\n",
    "\n",
    "print(stateAnimals.loc[\"Montana\"]) # Use loc to search by key value\n",
    "print(\"=========\")\n",
    "stateAnimals.iloc[1] # Use iloc to search by key index"
   ]
  },
  {
   "cell_type": "markdown",
   "metadata": {},
   "source": [
    "When indexing without loc or iloc, Pandas will try to infer which is best"
   ]
  },
  {
   "cell_type": "code",
   "execution_count": 5,
   "metadata": {},
   "outputs": [
    {
     "data": {
      "text/plain": [
       "'Bear'"
      ]
     },
     "execution_count": 5,
     "metadata": {},
     "output_type": "execute_result"
    }
   ],
   "source": [
    "stateAnimals[4]"
   ]
  },
  {
   "cell_type": "code",
   "execution_count": 6,
   "metadata": {},
   "outputs": [
    {
     "data": {
      "text/plain": [
       "'panther'"
      ]
     },
     "execution_count": 6,
     "metadata": {},
     "output_type": "execute_result"
    }
   ],
   "source": [
    "stateAnimals['FL']"
   ]
  },
  {
   "cell_type": "markdown",
   "metadata": {},
   "source": [
    "Doing this can lead to cases where Pandas is unable to correctly infer loc vs iloc.  Therefore it is best to explicity use the appropriate indexing method. \n",
    "\n",
    "You can print out the indicies of the series with the .index property"
   ]
  },
  {
   "cell_type": "code",
   "execution_count": 7,
   "metadata": {},
   "outputs": [
    {
     "data": {
      "text/plain": [
       "Index(['AK', 'AZ', 'Al', 'Arkansas', 'CA', 'CO', 'FL', 'Montana'], dtype='object')"
      ]
     },
     "execution_count": 7,
     "metadata": {},
     "output_type": "execute_result"
    }
   ],
   "source": [
    "stateAnimals.index"
   ]
  },
  {
   "cell_type": "markdown",
   "metadata": {},
   "source": []
  },
  {
   "cell_type": "code",
   "execution_count": null,
   "metadata": {
    "collapsed": true
   },
   "outputs": [],
   "source": []
  },
  {
   "cell_type": "markdown",
   "metadata": {},
   "source": [
    "#### Numpy methods\n",
    "\n",
    "Numpy methods work on Pandas series.  Serveral stat metheds are also implimented as method functions of the Pandas series object itself.\n",
    "\n",
    "`%%timeit` is a special function of the Jupyter notebooks that allows performance comparisions between different methods."
   ]
  },
  {
   "cell_type": "code",
   "execution_count": 8,
   "metadata": {},
   "outputs": [
    {
     "name": "stdout",
     "output_type": "stream",
     "text": [
      "The slowest run took 5.34 times longer than the fastest. This could mean that an intermediate result is being cached.\n",
      "321 µs ± 274 µs per loop (mean ± std. dev. of 7 runs, 100 loops each)\n"
     ]
    }
   ],
   "source": [
    "%%timeit -n 100\n",
    "mySeries.sum()"
   ]
  },
  {
   "cell_type": "code",
   "execution_count": 9,
   "metadata": {},
   "outputs": [
    {
     "name": "stdout",
     "output_type": "stream",
     "text": [
      "264 µs ± 64.4 µs per loop (mean ± std. dev. of 7 runs, 100 loops each)\n"
     ]
    }
   ],
   "source": [
    "%%timeit -n 100\n",
    "np.sum(mySeries)"
   ]
  },
  {
   "cell_type": "markdown",
   "metadata": {},
   "source": [
    "#### Broadcasting"
   ]
  },
  {
   "cell_type": "code",
   "execution_count": 37,
   "metadata": {},
   "outputs": [
    {
     "name": "stdout",
     "output_type": "stream",
     "text": [
      "0    50\n",
      "1    51\n",
      "2    52\n",
      "3    53\n",
      "4    54\n",
      "5    55\n",
      "6    56\n",
      "7    57\n",
      "8    58\n",
      "9    59\n",
      "dtype: int64\n",
      "0    60\n",
      "1    61\n",
      "2    62\n",
      "3    63\n",
      "4    64\n",
      "5    65\n",
      "6    66\n",
      "7    67\n",
      "8    68\n",
      "9    69\n",
      "dtype: int64\n",
      "0    60\n",
      "1    61\n",
      "2    62\n",
      "3    63\n",
      "4    64\n",
      "5    65\n",
      "6    66\n",
      "7    67\n",
      "8    68\n",
      "9    69\n",
      "dtype: int64\n",
      "0    60\n",
      "1    61\n",
      "2    62\n",
      "3    63\n",
      "4    64\n",
      "dtype: int64\n",
      "0    60\n",
      "1    61\n",
      "dtype: int64\n",
      "7    67\n",
      "8    68\n",
      "9    69\n",
      "dtype: int64\n"
     ]
    }
   ],
   "source": [
    "print(mySeries)\n",
    "\n",
    "mySeries += 10 # This adds 10 to every member of the series.\n",
    "\n",
    "print(mySeries) # The original series is modified.\n",
    "\n",
    "# If we want to preserve original data, make a copy of the series.\n",
    "\n",
    "newSeries = mySeries.copy()\n",
    "\n",
    "print(newSeries)\n",
    "\n",
    "# Use the .head() method to get a view of only the first 5 \n",
    "# elements\n",
    "print(newSeries.head())\n",
    "print(newSeries.head(2)) # 5 is the default, but you can specifiy the number of data points to show.\n",
    "\n",
    "print(newSeries.tail(3)) # the tail method does the same for the last data points of a Series."
   ]
  },
  {
   "cell_type": "markdown",
   "metadata": {},
   "source": [
    "#### Changing values without broadcasting"
   ]
  },
  {
   "cell_type": "code",
   "execution_count": 38,
   "metadata": {},
   "outputs": [
    {
     "name": "stdout",
     "output_type": "stream",
     "text": [
      "0 60\n",
      "1 61\n",
      "2 62\n",
      "3 63\n",
      "4 64\n",
      "5 65\n",
      "6 66\n",
      "7 67\n",
      "8 68\n",
      "9 69\n"
     ]
    }
   ],
   "source": [
    "for label, value in newSeries.iteritems():\n",
    "    print(label, item)\n",
    "    # Update the \n",
    "    if(value % 2 != 0):\n",
    "        newSeries.set_value(label, value+)"
   ]
  },
  {
   "cell_type": "code",
   "execution_count": 43,
   "metadata": {},
   "outputs": [
    {
     "data": {
      "text/plain": [
       "0    60\n",
       "2    62\n",
       "4    64\n",
       "6    66\n",
       "8    68\n",
       "dtype: int64"
      ]
     },
     "execution_count": 43,
     "metadata": {},
     "output_type": "execute_result"
    }
   ],
   "source": [
    "newSeries.loc[newSeries % 2 == 0] # This is an example of boolean masking."
   ]
  },
  {
   "cell_type": "code",
   "execution_count": 45,
   "metadata": {},
   "outputs": [
    {
     "data": {
      "text/plain": [
       "0    63\n",
       "1    61\n",
       "2    65\n",
       "3    63\n",
       "4    67\n",
       "5    65\n",
       "6    69\n",
       "7    67\n",
       "8    71\n",
       "9    69\n",
       "dtype: int64"
      ]
     },
     "execution_count": 45,
     "metadata": {},
     "output_type": "execute_result"
    }
   ],
   "source": [
    "# This can be used to change only some vaules\n",
    "newSeries.loc[newSeries % 2 == 0] += 3\n",
    "\n",
    "newSeries"
   ]
  },
  {
   "cell_type": "markdown",
   "metadata": {},
   "source": [
    "A series can have mixed types in the index and values.\n",
    "\n",
    "Data types will be cast to the most general type."
   ]
  },
  {
   "cell_type": "code",
   "execution_count": 50,
   "metadata": {},
   "outputs": [
    {
     "name": "stdout",
     "output_type": "stream",
     "text": [
      "0           63\n",
      "1           61\n",
      "2           65\n",
      "3           63\n",
      "4           67\n",
      "5           65\n",
      "6           69\n",
      "7           67\n",
      "8           71\n",
      "9           69\n",
      "Animal    Bear\n",
      "dtype: object\n"
     ]
    }
   ],
   "source": [
    "# Mixed type data series.\n",
    "newSeries[\"Animal\"] = 'Bear'\n",
    "print(newSeries)"
   ]
  },
  {
   "cell_type": "code",
   "execution_count": 23,
   "metadata": {},
   "outputs": [
    {
     "name": "stdout",
     "output_type": "stream",
     "text": [
      "<class 'int'>\n",
      "<class 'str'>\n"
     ]
    }
   ],
   "source": [
    "numpyArray = np.arange(5)\n",
    "arraySeries = pd.Series(numpyArray)\n",
    "\n",
    "#numpyArray[5] = 'Bear' # Can't add to a numpy array like this\n",
    "arraySeries[5] = 'Bear' # But you can do this with pandas series\n",
    "# You can append to numpy array with the append method.\n",
    "numpyArray = np.append(numpyArray, ['Bear']) # If you do this all elements are cast to strings\n",
    "\n",
    "#numpyArray\n",
    "print(type(arraySeries.iloc[1])) # This is an int type\n",
    "print(type(arraySeries.iloc[5])) # This is a string type\n",
    "\n",
    "#dir(numpyArray)\n",
    "\n",
    "#numpyArray.append('Bear')"
   ]
  },
  {
   "cell_type": "code",
   "execution_count": 74,
   "metadata": {},
   "outputs": [
    {
     "name": "stdout",
     "output_type": "stream",
     "text": [
      "Named Index\n",
      "0           63\n",
      "1           61\n",
      "2           65\n",
      "3           63\n",
      "4           67\n",
      "5           65\n",
      "6           69\n",
      "7           67\n",
      "8           71\n",
      "9           69\n",
      "Animal    Bear\n",
      "dtype: object\n"
     ]
    }
   ],
   "source": [
    "newSeries.index.name = \"Named Index\"\n",
    "print(newSeries)"
   ]
  },
  {
   "cell_type": "markdown",
   "metadata": {},
   "source": [
    "#### Comparision Operations"
   ]
  },
  {
   "cell_type": "code",
   "execution_count": null,
   "metadata": {
    "collapsed": true
   },
   "outputs": [],
   "source": []
  },
  {
   "cell_type": "markdown",
   "metadata": {},
   "source": [
    "#### Series string methods"
   ]
  },
  {
   "cell_type": "code",
   "execution_count": null,
   "metadata": {
    "collapsed": true
   },
   "outputs": [],
   "source": [
    "### upper, lower, len, strip, split"
   ]
  },
  {
   "cell_type": "markdown",
   "metadata": {},
   "source": []
  },
  {
   "cell_type": "markdown",
   "metadata": {},
   "source": [
    "#### Plotting a Series\n",
    "\n",
    "Pandas provides a simple wrapper function to matplotlib.pyplot.plot()"
   ]
  },
  {
   "cell_type": "code",
   "execution_count": 81,
   "metadata": {},
   "outputs": [
    {
     "data": {
      "text/plain": [
       "<matplotlib.axes._subplots.AxesSubplot at 0x1107ae048>"
      ]
     },
     "execution_count": 81,
     "metadata": {},
     "output_type": "execute_result"
    },
    {
     "data": {
      "image/png": "[encoded data removed]",
      "text/plain": [
       "<matplotlib.figure.Figure at 0x11055d7b8>"
      ]
     },
     "metadata": {},
     "output_type": "display_data"
    }
   ],
   "source": [
    "mySeries.plot()"
   ]
  },
  {
   "cell_type": "markdown",
   "metadata": {},
   "source": [
    "### The Dataframe data type\n",
    "\n",
    "A Dataframe can be created from a group of Series where each series is represented as a row of the dataframe."
   ]
  },
  {
   "cell_type": "code",
   "execution_count": 11,
   "metadata": {},
   "outputs": [
    {
     "data": {
      "text/html": [
       "<div>\n",
       "<style>\n",
       "    .dataframe thead tr:only-child th {\n",
       "        text-align: right;\n",
       "    }\n",
       "\n",
       "    .dataframe thead th {\n",
       "        text-align: left;\n",
       "    }\n",
       "\n",
       "    .dataframe tbody tr th {\n",
       "        vertical-align: top;\n",
       "    }\n",
       "</style>\n",
       "<table border=\"1\" class=\"dataframe\">\n",
       "  <thead>\n",
       "    <tr style=\"text-align: right;\">\n",
       "      <th></th>\n",
       "      <th>Cost</th>\n",
       "      <th>Item Purchased</th>\n",
       "      <th>Name</th>\n",
       "    </tr>\n",
       "  </thead>\n",
       "  <tbody>\n",
       "    <tr>\n",
       "      <th>Store 1</th>\n",
       "      <td>22.5</td>\n",
       "      <td>Dog Food</td>\n",
       "      <td>Chris</td>\n",
       "    </tr>\n",
       "    <tr>\n",
       "      <th>Store 1</th>\n",
       "      <td>2.5</td>\n",
       "      <td>Kitty Litter</td>\n",
       "      <td>Kevyn</td>\n",
       "    </tr>\n",
       "    <tr>\n",
       "      <th>Store 2</th>\n",
       "      <td>5.0</td>\n",
       "      <td>Bird Seed</td>\n",
       "      <td>Vinod</td>\n",
       "    </tr>\n",
       "    <tr>\n",
       "      <th>Store 3</th>\n",
       "      <td>3.5</td>\n",
       "      <td>Fish Food</td>\n",
       "      <td>Bob</td>\n",
       "    </tr>\n",
       "  </tbody>\n",
       "</table>\n",
       "</div>"
      ],
      "text/plain": [
       "         Cost Item Purchased   Name\n",
       "Store 1  22.5       Dog Food  Chris\n",
       "Store 1   2.5   Kitty Litter  Kevyn\n",
       "Store 2   5.0      Bird Seed  Vinod\n",
       "Store 3   3.5      Fish Food    Bob"
      ]
     },
     "execution_count": 11,
     "metadata": {},
     "output_type": "execute_result"
    }
   ],
   "source": [
    "import pandas as pd\n",
    "import numpy as np\n",
    "\n",
    "purchase_1 = pd.Series({'Name': 'Chris',\n",
    "                        'Item Purchased': 'Dog Food',\n",
    "                        'Cost': 22.50})\n",
    "purchase_2 = pd.Series({'Name': 'Kevyn',\n",
    "                        'Item Purchased': 'Kitty Litter',\n",
    "                        'Cost': 2.50})\n",
    "purchase_3 = pd.Series({'Name': 'Vinod',\n",
    "                        'Item Purchased': 'Bird Seed',\n",
    "                        'Cost': 5.00})\n",
    "purchase_4 = pd.Series({'Name': 'Bob',\n",
    "                        'Item Purchased': 'Fish Food',\n",
    "                        'Cost': 3.50})\n",
    "df = pd.DataFrame([purchase_1, purchase_2, purchase_3, purchase_4], index=['Store 1', 'Store 1', 'Store 2', 'Store 3'])\n",
    "df.head()"
   ]
  },
  {
   "cell_type": "markdown",
   "metadata": {},
   "source": [
    "#### Dataframe Indexing\n",
    "\n",
    "Pandas Dataframes can be indexed by row or column.  "
   ]
  },
  {
   "cell_type": "code",
   "execution_count": 12,
   "metadata": {},
   "outputs": [
    {
     "data": {
      "text/plain": [
       "Cost                      5\n",
       "Item Purchased    Bird Seed\n",
       "Name                  Vinod\n",
       "Name: Store 2, dtype: object"
      ]
     },
     "execution_count": 12,
     "metadata": {},
     "output_type": "execute_result"
    }
   ],
   "source": [
    "# We can use the loc and iloc methods to select rows of the Dataframe\n",
    "\n",
    "df.iloc[2] # Select the 3rd index"
   ]
  },
  {
   "cell_type": "code",
   "execution_count": 13,
   "metadata": {},
   "outputs": [
    {
     "data": {
      "text/html": [
       "<div>\n",
       "<style>\n",
       "    .dataframe thead tr:only-child th {\n",
       "        text-align: right;\n",
       "    }\n",
       "\n",
       "    .dataframe thead th {\n",
       "        text-align: left;\n",
       "    }\n",
       "\n",
       "    .dataframe tbody tr th {\n",
       "        vertical-align: top;\n",
       "    }\n",
       "</style>\n",
       "<table border=\"1\" class=\"dataframe\">\n",
       "  <thead>\n",
       "    <tr style=\"text-align: right;\">\n",
       "      <th></th>\n",
       "      <th>Cost</th>\n",
       "      <th>Item Purchased</th>\n",
       "      <th>Name</th>\n",
       "    </tr>\n",
       "  </thead>\n",
       "  <tbody>\n",
       "    <tr>\n",
       "      <th>Store 1</th>\n",
       "      <td>22.5</td>\n",
       "      <td>Dog Food</td>\n",
       "      <td>Chris</td>\n",
       "    </tr>\n",
       "    <tr>\n",
       "      <th>Store 1</th>\n",
       "      <td>2.5</td>\n",
       "      <td>Kitty Litter</td>\n",
       "      <td>Kevyn</td>\n",
       "    </tr>\n",
       "  </tbody>\n",
       "</table>\n",
       "</div>"
      ],
      "text/plain": [
       "         Cost Item Purchased   Name\n",
       "Store 1  22.5       Dog Food  Chris\n",
       "Store 1   2.5   Kitty Litter  Kevyn"
      ]
     },
     "execution_count": 13,
     "metadata": {},
     "output_type": "execute_result"
    }
   ],
   "source": [
    "df.loc['Store 1'] # Select rows with the index 'Store 1'"
   ]
  },
  {
   "cell_type": "code",
   "execution_count": 14,
   "metadata": {},
   "outputs": [
    {
     "ename": "KeyError",
     "evalue": "'the label [Cost] is not in the [index]'",
     "output_type": "error",
     "traceback": [
      "\u001b[0;31m---------------------------------------------------------------------------\u001b[0m",
      "\u001b[0;31mKeyError\u001b[0m                                  Traceback (most recent call last)",
      "\u001b[0;32m/usr/local/lib/python3.6/site-packages/pandas/core/indexing.py\u001b[0m in \u001b[0;36m_has_valid_type\u001b[0;34m(self, key, axis)\u001b[0m\n\u001b[1;32m   1433\u001b[0m                 \u001b[0;32mif\u001b[0m \u001b[0;32mnot\u001b[0m \u001b[0max\u001b[0m\u001b[0;34m.\u001b[0m\u001b[0mcontains\u001b[0m\u001b[0;34m(\u001b[0m\u001b[0mkey\u001b[0m\u001b[0;34m)\u001b[0m\u001b[0;34m:\u001b[0m\u001b[0;34m\u001b[0m\u001b[0m\n\u001b[0;32m-> 1434\u001b[0;31m                     \u001b[0merror\u001b[0m\u001b[0;34m(\u001b[0m\u001b[0;34m)\u001b[0m\u001b[0;34m\u001b[0m\u001b[0m\n\u001b[0m\u001b[1;32m   1435\u001b[0m             \u001b[0;32mexcept\u001b[0m \u001b[0mTypeError\u001b[0m \u001b[0;32mas\u001b[0m \u001b[0me\u001b[0m\u001b[0;34m:\u001b[0m\u001b[0;34m\u001b[0m\u001b[0m\n",
      "\u001b[0;32m/usr/local/lib/python3.6/site-packages/pandas/core/indexing.py\u001b[0m in \u001b[0;36merror\u001b[0;34m()\u001b[0m\n\u001b[1;32m   1428\u001b[0m                 raise KeyError(\"the label [%s] is not in the [%s]\" %\n\u001b[0;32m-> 1429\u001b[0;31m                                (key, self.obj._get_axis_name(axis)))\n\u001b[0m\u001b[1;32m   1430\u001b[0m \u001b[0;34m\u001b[0m\u001b[0m\n",
      "\u001b[0;31mKeyError\u001b[0m: 'the label [Cost] is not in the [index]'",
      "\nDuring handling of the above exception, another exception occurred:\n",
      "\u001b[0;31mKeyError\u001b[0m                                  Traceback (most recent call last)",
      "\u001b[0;32m<ipython-input-14-33e0c941b91d>\u001b[0m in \u001b[0;36m<module>\u001b[0;34m()\u001b[0m\n\u001b[0;32m----> 1\u001b[0;31m \u001b[0mdf\u001b[0m\u001b[0;34m.\u001b[0m\u001b[0mloc\u001b[0m\u001b[0;34m[\u001b[0m\u001b[0;34m'Cost'\u001b[0m\u001b[0;34m]\u001b[0m \u001b[0;31m# We cannot use loc on a column heading.  This gives and error\u001b[0m\u001b[0;34m\u001b[0m\u001b[0m\n\u001b[0m",
      "\u001b[0;32m/usr/local/lib/python3.6/site-packages/pandas/core/indexing.py\u001b[0m in \u001b[0;36m__getitem__\u001b[0;34m(self, key)\u001b[0m\n\u001b[1;32m   1326\u001b[0m         \u001b[0;32melse\u001b[0m\u001b[0;34m:\u001b[0m\u001b[0;34m\u001b[0m\u001b[0m\n\u001b[1;32m   1327\u001b[0m             \u001b[0mkey\u001b[0m \u001b[0;34m=\u001b[0m \u001b[0mcom\u001b[0m\u001b[0;34m.\u001b[0m\u001b[0m_apply_if_callable\u001b[0m\u001b[0;34m(\u001b[0m\u001b[0mkey\u001b[0m\u001b[0;34m,\u001b[0m \u001b[0mself\u001b[0m\u001b[0;34m.\u001b[0m\u001b[0mobj\u001b[0m\u001b[0;34m)\u001b[0m\u001b[0;34m\u001b[0m\u001b[0m\n\u001b[0;32m-> 1328\u001b[0;31m             \u001b[0;32mreturn\u001b[0m \u001b[0mself\u001b[0m\u001b[0;34m.\u001b[0m\u001b[0m_getitem_axis\u001b[0m\u001b[0;34m(\u001b[0m\u001b[0mkey\u001b[0m\u001b[0;34m,\u001b[0m \u001b[0maxis\u001b[0m\u001b[0;34m=\u001b[0m\u001b[0;36m0\u001b[0m\u001b[0;34m)\u001b[0m\u001b[0;34m\u001b[0m\u001b[0m\n\u001b[0m\u001b[1;32m   1329\u001b[0m \u001b[0;34m\u001b[0m\u001b[0m\n\u001b[1;32m   1330\u001b[0m     \u001b[0;32mdef\u001b[0m \u001b[0m_is_scalar_access\u001b[0m\u001b[0;34m(\u001b[0m\u001b[0mself\u001b[0m\u001b[0;34m,\u001b[0m \u001b[0mkey\u001b[0m\u001b[0;34m)\u001b[0m\u001b[0;34m:\u001b[0m\u001b[0;34m\u001b[0m\u001b[0m\n",
      "\u001b[0;32m/usr/local/lib/python3.6/site-packages/pandas/core/indexing.py\u001b[0m in \u001b[0;36m_getitem_axis\u001b[0;34m(self, key, axis)\u001b[0m\n\u001b[1;32m   1549\u001b[0m \u001b[0;34m\u001b[0m\u001b[0m\n\u001b[1;32m   1550\u001b[0m         \u001b[0;31m# fall thru to straight lookup\u001b[0m\u001b[0;34m\u001b[0m\u001b[0;34m\u001b[0m\u001b[0m\n\u001b[0;32m-> 1551\u001b[0;31m         \u001b[0mself\u001b[0m\u001b[0;34m.\u001b[0m\u001b[0m_has_valid_type\u001b[0m\u001b[0;34m(\u001b[0m\u001b[0mkey\u001b[0m\u001b[0;34m,\u001b[0m \u001b[0maxis\u001b[0m\u001b[0;34m)\u001b[0m\u001b[0;34m\u001b[0m\u001b[0m\n\u001b[0m\u001b[1;32m   1552\u001b[0m         \u001b[0;32mreturn\u001b[0m \u001b[0mself\u001b[0m\u001b[0;34m.\u001b[0m\u001b[0m_get_label\u001b[0m\u001b[0;34m(\u001b[0m\u001b[0mkey\u001b[0m\u001b[0;34m,\u001b[0m \u001b[0maxis\u001b[0m\u001b[0;34m=\u001b[0m\u001b[0maxis\u001b[0m\u001b[0;34m)\u001b[0m\u001b[0;34m\u001b[0m\u001b[0m\n\u001b[1;32m   1553\u001b[0m \u001b[0;34m\u001b[0m\u001b[0m\n",
      "\u001b[0;32m/usr/local/lib/python3.6/site-packages/pandas/core/indexing.py\u001b[0m in \u001b[0;36m_has_valid_type\u001b[0;34m(self, key, axis)\u001b[0m\n\u001b[1;32m   1440\u001b[0m                 \u001b[0;32mraise\u001b[0m\u001b[0;34m\u001b[0m\u001b[0m\n\u001b[1;32m   1441\u001b[0m             \u001b[0;32mexcept\u001b[0m\u001b[0;34m:\u001b[0m\u001b[0;34m\u001b[0m\u001b[0m\n\u001b[0;32m-> 1442\u001b[0;31m                 \u001b[0merror\u001b[0m\u001b[0;34m(\u001b[0m\u001b[0;34m)\u001b[0m\u001b[0;34m\u001b[0m\u001b[0m\n\u001b[0m\u001b[1;32m   1443\u001b[0m \u001b[0;34m\u001b[0m\u001b[0m\n\u001b[1;32m   1444\u001b[0m         \u001b[0;32mreturn\u001b[0m \u001b[0;32mTrue\u001b[0m\u001b[0;34m\u001b[0m\u001b[0m\n",
      "\u001b[0;32m/usr/local/lib/python3.6/site-packages/pandas/core/indexing.py\u001b[0m in \u001b[0;36merror\u001b[0;34m()\u001b[0m\n\u001b[1;32m   1427\u001b[0m                                     \"key\")\n\u001b[1;32m   1428\u001b[0m                 raise KeyError(\"the label [%s] is not in the [%s]\" %\n\u001b[0;32m-> 1429\u001b[0;31m                                (key, self.obj._get_axis_name(axis)))\n\u001b[0m\u001b[1;32m   1430\u001b[0m \u001b[0;34m\u001b[0m\u001b[0m\n\u001b[1;32m   1431\u001b[0m             \u001b[0;32mtry\u001b[0m\u001b[0;34m:\u001b[0m\u001b[0;34m\u001b[0m\u001b[0m\n",
      "\u001b[0;31mKeyError\u001b[0m: 'the label [Cost] is not in the [index]'"
     ]
    }
   ],
   "source": [
    "df.loc['Cost'] # We cannot use loc on a column heading.  This gives and error"
   ]
  },
  {
   "cell_type": "markdown",
   "metadata": {},
   "source": [
    "The following two calls give the same result (select a column from the dataframe.)"
   ]
  },
  {
   "cell_type": "code",
   "execution_count": 15,
   "metadata": {},
   "outputs": [
    {
     "name": "stdout",
     "output_type": "stream",
     "text": [
      "138 µs ± 22.8 µs per loop (mean ± std. dev. of 7 runs, 100 loops each)\n"
     ]
    }
   ],
   "source": [
    "%%timeit -n 100\n",
    "df.loc[:,'Cost']"
   ]
  },
  {
   "cell_type": "code",
   "execution_count": 16,
   "metadata": {},
   "outputs": [
    {
     "name": "stdout",
     "output_type": "stream",
     "text": [
      "8.59 µs ± 2.97 µs per loop (mean ± std. dev. of 7 runs, 100 loops each)\n"
     ]
    }
   ],
   "source": [
    "%%timeit -n 100\n",
    "df['Cost']"
   ]
  },
  {
   "cell_type": "markdown",
   "metadata": {},
   "source": [
    "If multiple columns are to be selected a list of columns is passed to the indexing operator."
   ]
  },
  {
   "cell_type": "code",
   "execution_count": 17,
   "metadata": {},
   "outputs": [
    {
     "data": {
      "text/html": [
       "<div>\n",
       "<style>\n",
       "    .dataframe thead tr:only-child th {\n",
       "        text-align: right;\n",
       "    }\n",
       "\n",
       "    .dataframe thead th {\n",
       "        text-align: left;\n",
       "    }\n",
       "\n",
       "    .dataframe tbody tr th {\n",
       "        vertical-align: top;\n",
       "    }\n",
       "</style>\n",
       "<table border=\"1\" class=\"dataframe\">\n",
       "  <thead>\n",
       "    <tr style=\"text-align: right;\">\n",
       "      <th></th>\n",
       "      <th>Name</th>\n",
       "      <th>Cost</th>\n",
       "    </tr>\n",
       "  </thead>\n",
       "  <tbody>\n",
       "    <tr>\n",
       "      <th>Store 1</th>\n",
       "      <td>Chris</td>\n",
       "      <td>22.5</td>\n",
       "    </tr>\n",
       "    <tr>\n",
       "      <th>Store 1</th>\n",
       "      <td>Kevyn</td>\n",
       "      <td>2.5</td>\n",
       "    </tr>\n",
       "    <tr>\n",
       "      <th>Store 2</th>\n",
       "      <td>Vinod</td>\n",
       "      <td>5.0</td>\n",
       "    </tr>\n",
       "    <tr>\n",
       "      <th>Store 3</th>\n",
       "      <td>Bob</td>\n",
       "      <td>3.5</td>\n",
       "    </tr>\n",
       "  </tbody>\n",
       "</table>\n",
       "</div>"
      ],
      "text/plain": [
       "          Name  Cost\n",
       "Store 1  Chris  22.5\n",
       "Store 1  Kevyn   2.5\n",
       "Store 2  Vinod   5.0\n",
       "Store 3    Bob   3.5"
      ]
     },
     "execution_count": 17,
     "metadata": {},
     "output_type": "execute_result"
    }
   ],
   "source": [
    "df[['Name', 'Cost']]"
   ]
  },
  {
   "cell_type": "code",
   "execution_count": 18,
   "metadata": {},
   "outputs": [
    {
     "data": {
      "text/html": [
       "<div>\n",
       "<style>\n",
       "    .dataframe thead tr:only-child th {\n",
       "        text-align: right;\n",
       "    }\n",
       "\n",
       "    .dataframe thead th {\n",
       "        text-align: left;\n",
       "    }\n",
       "\n",
       "    .dataframe tbody tr th {\n",
       "        vertical-align: top;\n",
       "    }\n",
       "</style>\n",
       "<table border=\"1\" class=\"dataframe\">\n",
       "  <thead>\n",
       "    <tr style=\"text-align: right;\">\n",
       "      <th></th>\n",
       "      <th>Name</th>\n",
       "      <th>Cost</th>\n",
       "    </tr>\n",
       "  </thead>\n",
       "  <tbody>\n",
       "    <tr>\n",
       "      <th>Store 1</th>\n",
       "      <td>Chris</td>\n",
       "      <td>22.5</td>\n",
       "    </tr>\n",
       "    <tr>\n",
       "      <th>Store 1</th>\n",
       "      <td>Kevyn</td>\n",
       "      <td>2.5</td>\n",
       "    </tr>\n",
       "    <tr>\n",
       "      <th>Store 2</th>\n",
       "      <td>Vinod</td>\n",
       "      <td>5.0</td>\n",
       "    </tr>\n",
       "    <tr>\n",
       "      <th>Store 3</th>\n",
       "      <td>Bob</td>\n",
       "      <td>3.5</td>\n",
       "    </tr>\n",
       "  </tbody>\n",
       "</table>\n",
       "</div>"
      ],
      "text/plain": [
       "          Name  Cost\n",
       "Store 1  Chris  22.5\n",
       "Store 1  Kevyn   2.5\n",
       "Store 2  Vinod   5.0\n",
       "Store 3    Bob   3.5"
      ]
     },
     "execution_count": 18,
     "metadata": {},
     "output_type": "execute_result"
    }
   ],
   "source": [
    "df.loc[:, ['Name', 'Cost']] # the loc operator can also be used with a list of columns."
   ]
  },
  {
   "cell_type": "code",
   "execution_count": 20,
   "metadata": {},
   "outputs": [
    {
     "data": {
      "text/plain": [
       "Store 1    22.5\n",
       "Store 1     2.5\n",
       "Store 2     5.0\n",
       "Store 3     3.5\n",
       "Name: Cost, dtype: float64"
      ]
     },
     "execution_count": 20,
     "metadata": {},
     "output_type": "execute_result"
    }
   ],
   "source": [
    "df['Cost']"
   ]
  },
  {
   "cell_type": "code",
   "execution_count": 19,
   "metadata": {},
   "outputs": [
    {
     "data": {
      "text/plain": [
       "Store 1    22.5\n",
       "Store 1     2.5\n",
       "Store 2     5.0\n",
       "Store 3     3.5\n",
       "Name: Cost, dtype: float64"
      ]
     },
     "execution_count": 19,
     "metadata": {},
     "output_type": "execute_result"
    }
   ],
   "source": [
    "# Indexing by dot notation is also available\n",
    "\n",
    "df.Cost"
   ]
  },
  {
   "cell_type": "markdown",
   "metadata": {},
   "source": [
    "#### Deleting rows or columns\n",
    "\n",
    "Use the .drop method to Delete columns or rows from a dataframe."
   ]
  },
  {
   "cell_type": "code",
   "execution_count": 21,
   "metadata": {},
   "outputs": [
    {
     "data": {
      "text/html": [
       "<div>\n",
       "<style>\n",
       "    .dataframe thead tr:only-child th {\n",
       "        text-align: right;\n",
       "    }\n",
       "\n",
       "    .dataframe thead th {\n",
       "        text-align: left;\n",
       "    }\n",
       "\n",
       "    .dataframe tbody tr th {\n",
       "        vertical-align: top;\n",
       "    }\n",
       "</style>\n",
       "<table border=\"1\" class=\"dataframe\">\n",
       "  <thead>\n",
       "    <tr style=\"text-align: right;\">\n",
       "      <th></th>\n",
       "      <th>Cost</th>\n",
       "      <th>Item Purchased</th>\n",
       "      <th>Name</th>\n",
       "    </tr>\n",
       "  </thead>\n",
       "  <tbody>\n",
       "    <tr>\n",
       "      <th>Store 1</th>\n",
       "      <td>22.5</td>\n",
       "      <td>Dog Food</td>\n",
       "      <td>Chris</td>\n",
       "    </tr>\n",
       "    <tr>\n",
       "      <th>Store 1</th>\n",
       "      <td>2.5</td>\n",
       "      <td>Kitty Litter</td>\n",
       "      <td>Kevyn</td>\n",
       "    </tr>\n",
       "    <tr>\n",
       "      <th>Store 2</th>\n",
       "      <td>5.0</td>\n",
       "      <td>Bird Seed</td>\n",
       "      <td>Vinod</td>\n",
       "    </tr>\n",
       "    <tr>\n",
       "      <th>Store 3</th>\n",
       "      <td>3.5</td>\n",
       "      <td>Fish Food</td>\n",
       "      <td>Bob</td>\n",
       "    </tr>\n",
       "  </tbody>\n",
       "</table>\n",
       "</div>"
      ],
      "text/plain": [
       "         Cost Item Purchased   Name\n",
       "Store 1  22.5       Dog Food  Chris\n",
       "Store 1   2.5   Kitty Litter  Kevyn\n",
       "Store 2   5.0      Bird Seed  Vinod\n",
       "Store 3   3.5      Fish Food    Bob"
      ]
     },
     "execution_count": 21,
     "metadata": {},
     "output_type": "execute_result"
    }
   ],
   "source": [
    "df"
   ]
  },
  {
   "cell_type": "code",
   "execution_count": 24,
   "metadata": {},
   "outputs": [
    {
     "data": {
      "text/html": [
       "<div>\n",
       "<style>\n",
       "    .dataframe thead tr:only-child th {\n",
       "        text-align: right;\n",
       "    }\n",
       "\n",
       "    .dataframe thead th {\n",
       "        text-align: left;\n",
       "    }\n",
       "\n",
       "    .dataframe tbody tr th {\n",
       "        vertical-align: top;\n",
       "    }\n",
       "</style>\n",
       "<table border=\"1\" class=\"dataframe\">\n",
       "  <thead>\n",
       "    <tr style=\"text-align: right;\">\n",
       "      <th></th>\n",
       "      <th>Cost</th>\n",
       "      <th>Item Purchased</th>\n",
       "      <th>Name</th>\n",
       "    </tr>\n",
       "  </thead>\n",
       "  <tbody>\n",
       "    <tr>\n",
       "      <th>Store 1</th>\n",
       "      <td>22.5</td>\n",
       "      <td>Dog Food</td>\n",
       "      <td>Chris</td>\n",
       "    </tr>\n",
       "    <tr>\n",
       "      <th>Store 1</th>\n",
       "      <td>2.5</td>\n",
       "      <td>Kitty Litter</td>\n",
       "      <td>Kevyn</td>\n",
       "    </tr>\n",
       "    <tr>\n",
       "      <th>Store 3</th>\n",
       "      <td>3.5</td>\n",
       "      <td>Fish Food</td>\n",
       "      <td>Bob</td>\n",
       "    </tr>\n",
       "  </tbody>\n",
       "</table>\n",
       "</div>"
      ],
      "text/plain": [
       "         Cost Item Purchased   Name\n",
       "Store 1  22.5       Dog Food  Chris\n",
       "Store 1   2.5   Kitty Litter  Kevyn\n",
       "Store 3   3.5      Fish Food    Bob"
      ]
     },
     "execution_count": 24,
     "metadata": {},
     "output_type": "execute_result"
    }
   ],
   "source": [
    "# Drop row for 'Store 2'\n",
    "df.drop('Store 2')"
   ]
  },
  {
   "cell_type": "code",
   "execution_count": 25,
   "metadata": {},
   "outputs": [
    {
     "data": {
      "text/html": [
       "<div>\n",
       "<style>\n",
       "    .dataframe thead tr:only-child th {\n",
       "        text-align: right;\n",
       "    }\n",
       "\n",
       "    .dataframe thead th {\n",
       "        text-align: left;\n",
       "    }\n",
       "\n",
       "    .dataframe tbody tr th {\n",
       "        vertical-align: top;\n",
       "    }\n",
       "</style>\n",
       "<table border=\"1\" class=\"dataframe\">\n",
       "  <thead>\n",
       "    <tr style=\"text-align: right;\">\n",
       "      <th></th>\n",
       "      <th>Cost</th>\n",
       "      <th>Item Purchased</th>\n",
       "      <th>Name</th>\n",
       "    </tr>\n",
       "  </thead>\n",
       "  <tbody>\n",
       "    <tr>\n",
       "      <th>Store 1</th>\n",
       "      <td>22.5</td>\n",
       "      <td>Dog Food</td>\n",
       "      <td>Chris</td>\n",
       "    </tr>\n",
       "    <tr>\n",
       "      <th>Store 1</th>\n",
       "      <td>2.5</td>\n",
       "      <td>Kitty Litter</td>\n",
       "      <td>Kevyn</td>\n",
       "    </tr>\n",
       "    <tr>\n",
       "      <th>Store 2</th>\n",
       "      <td>5.0</td>\n",
       "      <td>Bird Seed</td>\n",
       "      <td>Vinod</td>\n",
       "    </tr>\n",
       "    <tr>\n",
       "      <th>Store 3</th>\n",
       "      <td>3.5</td>\n",
       "      <td>Fish Food</td>\n",
       "      <td>Bob</td>\n",
       "    </tr>\n",
       "  </tbody>\n",
       "</table>\n",
       "</div>"
      ],
      "text/plain": [
       "         Cost Item Purchased   Name\n",
       "Store 1  22.5       Dog Food  Chris\n",
       "Store 1   2.5   Kitty Litter  Kevyn\n",
       "Store 2   5.0      Bird Seed  Vinod\n",
       "Store 3   3.5      Fish Food    Bob"
      ]
     },
     "execution_count": 25,
     "metadata": {},
     "output_type": "execute_result"
    }
   ],
   "source": [
    "# drop returns a new dataframe, original data is retained unless you reassign\n",
    "#\n",
    "# You can set inplace=True to override.\n",
    "df"
   ]
  },
  {
   "cell_type": "code",
   "execution_count": 27,
   "metadata": {
    "collapsed": true
   },
   "outputs": [],
   "source": [
    "# Now the original data is affected.\n",
    "df.drop('Store 2', inplace=True)"
   ]
  },
  {
   "cell_type": "code",
   "execution_count": 28,
   "metadata": {},
   "outputs": [
    {
     "data": {
      "text/html": [
       "<div>\n",
       "<style>\n",
       "    .dataframe thead tr:only-child th {\n",
       "        text-align: right;\n",
       "    }\n",
       "\n",
       "    .dataframe thead th {\n",
       "        text-align: left;\n",
       "    }\n",
       "\n",
       "    .dataframe tbody tr th {\n",
       "        vertical-align: top;\n",
       "    }\n",
       "</style>\n",
       "<table border=\"1\" class=\"dataframe\">\n",
       "  <thead>\n",
       "    <tr style=\"text-align: right;\">\n",
       "      <th></th>\n",
       "      <th>Cost</th>\n",
       "      <th>Item Purchased</th>\n",
       "      <th>Name</th>\n",
       "    </tr>\n",
       "  </thead>\n",
       "  <tbody>\n",
       "    <tr>\n",
       "      <th>Store 1</th>\n",
       "      <td>22.5</td>\n",
       "      <td>Dog Food</td>\n",
       "      <td>Chris</td>\n",
       "    </tr>\n",
       "    <tr>\n",
       "      <th>Store 1</th>\n",
       "      <td>2.5</td>\n",
       "      <td>Kitty Litter</td>\n",
       "      <td>Kevyn</td>\n",
       "    </tr>\n",
       "    <tr>\n",
       "      <th>Store 3</th>\n",
       "      <td>3.5</td>\n",
       "      <td>Fish Food</td>\n",
       "      <td>Bob</td>\n",
       "    </tr>\n",
       "  </tbody>\n",
       "</table>\n",
       "</div>"
      ],
      "text/plain": [
       "         Cost Item Purchased   Name\n",
       "Store 1  22.5       Dog Food  Chris\n",
       "Store 1   2.5   Kitty Litter  Kevyn\n",
       "Store 3   3.5      Fish Food    Bob"
      ]
     },
     "execution_count": 28,
     "metadata": {},
     "output_type": "execute_result"
    }
   ],
   "source": [
    "df"
   ]
  },
  {
   "cell_type": "code",
   "execution_count": 29,
   "metadata": {},
   "outputs": [
    {
     "data": {
      "text/html": [
       "<div>\n",
       "<style>\n",
       "    .dataframe thead tr:only-child th {\n",
       "        text-align: right;\n",
       "    }\n",
       "\n",
       "    .dataframe thead th {\n",
       "        text-align: left;\n",
       "    }\n",
       "\n",
       "    .dataframe tbody tr th {\n",
       "        vertical-align: top;\n",
       "    }\n",
       "</style>\n",
       "<table border=\"1\" class=\"dataframe\">\n",
       "  <thead>\n",
       "    <tr style=\"text-align: right;\">\n",
       "      <th></th>\n",
       "      <th>Cost</th>\n",
       "      <th>Item Purchased</th>\n",
       "      <th>Name</th>\n",
       "    </tr>\n",
       "  </thead>\n",
       "  <tbody>\n",
       "    <tr>\n",
       "      <th>Store 3</th>\n",
       "      <td>3.5</td>\n",
       "      <td>Fish Food</td>\n",
       "      <td>Bob</td>\n",
       "    </tr>\n",
       "  </tbody>\n",
       "</table>\n",
       "</div>"
      ],
      "text/plain": [
       "         Cost Item Purchased Name\n",
       "Store 3   3.5      Fish Food  Bob"
      ]
     },
     "execution_count": 29,
     "metadata": {},
     "output_type": "execute_result"
    }
   ],
   "source": [
    "# If more then one column has the same index value, drop will delete all.\n",
    "df.drop('Store 1')"
   ]
  },
  {
   "cell_type": "code",
   "execution_count": 30,
   "metadata": {},
   "outputs": [
    {
     "data": {
      "text/html": [
       "<div>\n",
       "<style>\n",
       "    .dataframe thead tr:only-child th {\n",
       "        text-align: right;\n",
       "    }\n",
       "\n",
       "    .dataframe thead th {\n",
       "        text-align: left;\n",
       "    }\n",
       "\n",
       "    .dataframe tbody tr th {\n",
       "        vertical-align: top;\n",
       "    }\n",
       "</style>\n",
       "<table border=\"1\" class=\"dataframe\">\n",
       "  <thead>\n",
       "    <tr style=\"text-align: right;\">\n",
       "      <th></th>\n",
       "      <th>Item Purchased</th>\n",
       "      <th>Name</th>\n",
       "    </tr>\n",
       "  </thead>\n",
       "  <tbody>\n",
       "    <tr>\n",
       "      <th>Store 1</th>\n",
       "      <td>Dog Food</td>\n",
       "      <td>Chris</td>\n",
       "    </tr>\n",
       "    <tr>\n",
       "      <th>Store 1</th>\n",
       "      <td>Kitty Litter</td>\n",
       "      <td>Kevyn</td>\n",
       "    </tr>\n",
       "    <tr>\n",
       "      <th>Store 3</th>\n",
       "      <td>Fish Food</td>\n",
       "      <td>Bob</td>\n",
       "    </tr>\n",
       "  </tbody>\n",
       "</table>\n",
       "</div>"
      ],
      "text/plain": [
       "        Item Purchased   Name\n",
       "Store 1       Dog Food  Chris\n",
       "Store 1   Kitty Litter  Kevyn\n",
       "Store 3      Fish Food    Bob"
      ]
     },
     "execution_count": 30,
     "metadata": {},
     "output_type": "execute_result"
    }
   ],
   "source": [
    "# Use the axis parameter to select columns\n",
    "df.drop('Cost', 1)"
   ]
  },
  {
   "cell_type": "markdown",
   "metadata": {},
   "source": [
    "#### Adding columns to a dataframe"
   ]
  },
  {
   "cell_type": "code",
   "execution_count": 34,
   "metadata": {},
   "outputs": [
    {
     "name": "stdout",
     "output_type": "stream",
     "text": [
      "         Cost Item Purchased   Name  Billing\n",
      "Store 1  22.5       Dog Food  Chris      NaN\n",
      "Store 1   2.5   Kitty Litter  Kevyn      NaN\n",
      "Store 3   3.5      Fish Food    Bob      NaN\n"
     ]
    }
   ],
   "source": [
    "# Adding a column with a default value for all rows.\n",
    "df['Billing'] = np.nan\n",
    "print(df)"
   ]
  },
  {
   "cell_type": "code",
   "execution_count": 36,
   "metadata": {},
   "outputs": [
    {
     "data": {
      "text/html": [
       "<div>\n",
       "<style>\n",
       "    .dataframe thead tr:only-child th {\n",
       "        text-align: right;\n",
       "    }\n",
       "\n",
       "    .dataframe thead th {\n",
       "        text-align: left;\n",
       "    }\n",
       "\n",
       "    .dataframe tbody tr th {\n",
       "        vertical-align: top;\n",
       "    }\n",
       "</style>\n",
       "<table border=\"1\" class=\"dataframe\">\n",
       "  <thead>\n",
       "    <tr style=\"text-align: right;\">\n",
       "      <th></th>\n",
       "      <th>Cost</th>\n",
       "      <th>Item Purchased</th>\n",
       "      <th>Name</th>\n",
       "      <th>Billing</th>\n",
       "    </tr>\n",
       "  </thead>\n",
       "  <tbody>\n",
       "    <tr>\n",
       "      <th>Store 1</th>\n",
       "      <td>22.5</td>\n",
       "      <td>Dog Food</td>\n",
       "      <td>Chris</td>\n",
       "      <td>Cash</td>\n",
       "    </tr>\n",
       "    <tr>\n",
       "      <th>Store 1</th>\n",
       "      <td>2.5</td>\n",
       "      <td>Kitty Litter</td>\n",
       "      <td>Kevyn</td>\n",
       "      <td>Credit</td>\n",
       "    </tr>\n",
       "    <tr>\n",
       "      <th>Store 3</th>\n",
       "      <td>3.5</td>\n",
       "      <td>Fish Food</td>\n",
       "      <td>Bob</td>\n",
       "      <td>Other</td>\n",
       "    </tr>\n",
       "  </tbody>\n",
       "</table>\n",
       "</div>"
      ],
      "text/plain": [
       "         Cost Item Purchased   Name Billing\n",
       "Store 1  22.5       Dog Food  Chris    Cash\n",
       "Store 1   2.5   Kitty Litter  Kevyn  Credit\n",
       "Store 3   3.5      Fish Food    Bob   Other"
      ]
     },
     "execution_count": 36,
     "metadata": {},
     "output_type": "execute_result"
    }
   ],
   "source": [
    "# Adding specific values with a list\n",
    "df['Billing'] = ['Cash', 'Credit', 'Other']\n",
    "df"
   ]
  },
  {
   "cell_type": "code",
   "execution_count": 45,
   "metadata": {},
   "outputs": [
    {
     "ename": "ValueError",
     "evalue": "cannot insert level_0, already exists",
     "output_type": "error",
     "traceback": [
      "\u001b[0;31m---------------------------------------------------------------------------\u001b[0m",
      "\u001b[0;31mValueError\u001b[0m                                Traceback (most recent call last)",
      "\u001b[0;32m<ipython-input-45-f13eb1753b53>\u001b[0m in \u001b[0;36m<module>\u001b[0;34m()\u001b[0m\n\u001b[1;32m      1\u001b[0m \u001b[0;31m# Adding by a Series (best method)\u001b[0m\u001b[0;34m\u001b[0m\u001b[0;34m\u001b[0m\u001b[0m\n\u001b[0;32m----> 2\u001b[0;31m \u001b[0mdf\u001b[0m \u001b[0;34m=\u001b[0m \u001b[0mdf\u001b[0m\u001b[0;34m.\u001b[0m\u001b[0mreset_index\u001b[0m\u001b[0;34m(\u001b[0m\u001b[0;34m)\u001b[0m \u001b[0;31m# This changes to a unique index\u001b[0m\u001b[0;34m\u001b[0m\u001b[0m\n\u001b[0m\u001b[1;32m      3\u001b[0m \u001b[0mdf\u001b[0m\u001b[0;34m[\u001b[0m\u001b[0;34m'Address'\u001b[0m\u001b[0;34m]\u001b[0m \u001b[0;34m=\u001b[0m \u001b[0mpd\u001b[0m\u001b[0;34m.\u001b[0m\u001b[0mSeries\u001b[0m\u001b[0;34m(\u001b[0m\u001b[0;34m{\u001b[0m\u001b[0;36m0\u001b[0m\u001b[0;34m:\u001b[0m \u001b[0;34m'111 1st St'\u001b[0m\u001b[0;34m,\u001b[0m \u001b[0;36m2\u001b[0m\u001b[0;34m:\u001b[0m \u001b[0;34m'33 4th Ave'\u001b[0m\u001b[0;34m}\u001b[0m\u001b[0;34m)\u001b[0m \u001b[0;31m# Add the values\u001b[0m\u001b[0;34m\u001b[0m\u001b[0m\n",
      "\u001b[0;32m/usr/local/lib/python3.6/site-packages/pandas/core/frame.py\u001b[0m in \u001b[0;36mreset_index\u001b[0;34m(self, level, drop, inplace, col_level, col_fill)\u001b[0m\n\u001b[1;32m   3054\u001b[0m                 \u001b[0mlevel_values\u001b[0m \u001b[0;34m=\u001b[0m \u001b[0m_maybe_casted_values\u001b[0m\u001b[0;34m(\u001b[0m\u001b[0mlev\u001b[0m\u001b[0;34m,\u001b[0m \u001b[0mlab\u001b[0m\u001b[0;34m)\u001b[0m\u001b[0;34m\u001b[0m\u001b[0m\n\u001b[1;32m   3055\u001b[0m                 \u001b[0;32mif\u001b[0m \u001b[0mlevel\u001b[0m \u001b[0;32mis\u001b[0m \u001b[0;32mNone\u001b[0m \u001b[0;32mor\u001b[0m \u001b[0mi\u001b[0m \u001b[0;32min\u001b[0m \u001b[0mlevel\u001b[0m\u001b[0;34m:\u001b[0m\u001b[0;34m\u001b[0m\u001b[0m\n\u001b[0;32m-> 3056\u001b[0;31m                     \u001b[0mnew_obj\u001b[0m\u001b[0;34m.\u001b[0m\u001b[0minsert\u001b[0m\u001b[0;34m(\u001b[0m\u001b[0;36m0\u001b[0m\u001b[0;34m,\u001b[0m \u001b[0mname\u001b[0m\u001b[0;34m,\u001b[0m \u001b[0mlevel_values\u001b[0m\u001b[0;34m)\u001b[0m\u001b[0;34m\u001b[0m\u001b[0m\n\u001b[0m\u001b[1;32m   3057\u001b[0m \u001b[0;34m\u001b[0m\u001b[0m\n\u001b[1;32m   3058\u001b[0m         \u001b[0mnew_obj\u001b[0m\u001b[0;34m.\u001b[0m\u001b[0mindex\u001b[0m \u001b[0;34m=\u001b[0m \u001b[0mnew_index\u001b[0m\u001b[0;34m\u001b[0m\u001b[0m\n",
      "\u001b[0;32m/usr/local/lib/python3.6/site-packages/pandas/core/frame.py\u001b[0m in \u001b[0;36minsert\u001b[0;34m(self, loc, column, value, allow_duplicates)\u001b[0m\n\u001b[1;32m   2519\u001b[0m         \u001b[0mvalue\u001b[0m \u001b[0;34m=\u001b[0m \u001b[0mself\u001b[0m\u001b[0;34m.\u001b[0m\u001b[0m_sanitize_column\u001b[0m\u001b[0;34m(\u001b[0m\u001b[0mcolumn\u001b[0m\u001b[0;34m,\u001b[0m \u001b[0mvalue\u001b[0m\u001b[0;34m,\u001b[0m \u001b[0mbroadcast\u001b[0m\u001b[0;34m=\u001b[0m\u001b[0;32mFalse\u001b[0m\u001b[0;34m)\u001b[0m\u001b[0;34m\u001b[0m\u001b[0m\n\u001b[1;32m   2520\u001b[0m         self._data.insert(loc, column, value,\n\u001b[0;32m-> 2521\u001b[0;31m                           allow_duplicates=allow_duplicates)\n\u001b[0m\u001b[1;32m   2522\u001b[0m \u001b[0;34m\u001b[0m\u001b[0m\n\u001b[1;32m   2523\u001b[0m     \u001b[0;32mdef\u001b[0m \u001b[0massign\u001b[0m\u001b[0;34m(\u001b[0m\u001b[0mself\u001b[0m\u001b[0;34m,\u001b[0m \u001b[0;34m**\u001b[0m\u001b[0mkwargs\u001b[0m\u001b[0;34m)\u001b[0m\u001b[0;34m:\u001b[0m\u001b[0;34m\u001b[0m\u001b[0m\n",
      "\u001b[0;32m/usr/local/lib/python3.6/site-packages/pandas/core/internals.py\u001b[0m in \u001b[0;36minsert\u001b[0;34m(self, loc, item, value, allow_duplicates)\u001b[0m\n\u001b[1;32m   3808\u001b[0m         \u001b[0;32mif\u001b[0m \u001b[0;32mnot\u001b[0m \u001b[0mallow_duplicates\u001b[0m \u001b[0;32mand\u001b[0m \u001b[0mitem\u001b[0m \u001b[0;32min\u001b[0m \u001b[0mself\u001b[0m\u001b[0;34m.\u001b[0m\u001b[0mitems\u001b[0m\u001b[0;34m:\u001b[0m\u001b[0;34m\u001b[0m\u001b[0m\n\u001b[1;32m   3809\u001b[0m             \u001b[0;31m# Should this be a different kind of error??\u001b[0m\u001b[0;34m\u001b[0m\u001b[0;34m\u001b[0m\u001b[0m\n\u001b[0;32m-> 3810\u001b[0;31m             \u001b[0;32mraise\u001b[0m \u001b[0mValueError\u001b[0m\u001b[0;34m(\u001b[0m\u001b[0;34m'cannot insert {}, already exists'\u001b[0m\u001b[0;34m.\u001b[0m\u001b[0mformat\u001b[0m\u001b[0;34m(\u001b[0m\u001b[0mitem\u001b[0m\u001b[0;34m)\u001b[0m\u001b[0;34m)\u001b[0m\u001b[0;34m\u001b[0m\u001b[0m\n\u001b[0m\u001b[1;32m   3811\u001b[0m \u001b[0;34m\u001b[0m\u001b[0m\n\u001b[1;32m   3812\u001b[0m         \u001b[0;32mif\u001b[0m \u001b[0;32mnot\u001b[0m \u001b[0misinstance\u001b[0m\u001b[0;34m(\u001b[0m\u001b[0mloc\u001b[0m\u001b[0;34m,\u001b[0m \u001b[0mint\u001b[0m\u001b[0;34m)\u001b[0m\u001b[0;34m:\u001b[0m\u001b[0;34m\u001b[0m\u001b[0m\n",
      "\u001b[0;31mValueError\u001b[0m: cannot insert level_0, already exists"
     ]
    }
   ],
   "source": [
    "# Adding by a Series (best method)\n",
    "df = df.reset_index() # This changes to a unique index\n",
    "df['Address'] = pd.Series({0: '111 1st St', 2: '33 4th Ave'}) # Add the values"
   ]
  },
  {
   "cell_type": "code",
   "execution_count": 51,
   "metadata": {},
   "outputs": [
    {
     "name": "stdout",
     "output_type": "stream",
     "text": [
      "   level_0    index  Cost Item Purchased   Name Billing     Address\n",
      "0        0  Store 1  22.5       Dog Food  Chris    Cash  111 1st St\n",
      "1        1  Store 1   2.5   Kitty Litter  Kevyn  Credit         NaN\n",
      "2        2  Store 3   3.5      Fish Food    Bob   Other  33 4th Ave\n"
     ]
    },
    {
     "data": {
      "text/html": [
       "<div>\n",
       "<style>\n",
       "    .dataframe thead tr:only-child th {\n",
       "        text-align: right;\n",
       "    }\n",
       "\n",
       "    .dataframe thead th {\n",
       "        text-align: left;\n",
       "    }\n",
       "\n",
       "    .dataframe tbody tr th {\n",
       "        vertical-align: top;\n",
       "    }\n",
       "</style>\n",
       "<table border=\"1\" class=\"dataframe\">\n",
       "  <thead>\n",
       "    <tr style=\"text-align: right;\">\n",
       "      <th></th>\n",
       "      <th>level_0</th>\n",
       "      <th>Cost</th>\n",
       "      <th>Item Purchased</th>\n",
       "      <th>Name</th>\n",
       "      <th>Billing</th>\n",
       "      <th>Address</th>\n",
       "    </tr>\n",
       "    <tr>\n",
       "      <th>index</th>\n",
       "      <th></th>\n",
       "      <th></th>\n",
       "      <th></th>\n",
       "      <th></th>\n",
       "      <th></th>\n",
       "      <th></th>\n",
       "    </tr>\n",
       "  </thead>\n",
       "  <tbody>\n",
       "    <tr>\n",
       "      <th>Store 1</th>\n",
       "      <td>0</td>\n",
       "      <td>22.5</td>\n",
       "      <td>Dog Food</td>\n",
       "      <td>Chris</td>\n",
       "      <td>Cash</td>\n",
       "      <td>111 1st St</td>\n",
       "    </tr>\n",
       "    <tr>\n",
       "      <th>Store 1</th>\n",
       "      <td>1</td>\n",
       "      <td>2.5</td>\n",
       "      <td>Kitty Litter</td>\n",
       "      <td>Kevyn</td>\n",
       "      <td>Credit</td>\n",
       "      <td>NaN</td>\n",
       "    </tr>\n",
       "    <tr>\n",
       "      <th>Store 3</th>\n",
       "      <td>2</td>\n",
       "      <td>3.5</td>\n",
       "      <td>Fish Food</td>\n",
       "      <td>Bob</td>\n",
       "      <td>Other</td>\n",
       "      <td>33 4th Ave</td>\n",
       "    </tr>\n",
       "  </tbody>\n",
       "</table>\n",
       "</div>"
      ],
      "text/plain": [
       "         level_0  Cost Item Purchased   Name Billing     Address\n",
       "index                                                           \n",
       "Store 1        0  22.5       Dog Food  Chris    Cash  111 1st St\n",
       "Store 1        1   2.5   Kitty Litter  Kevyn  Credit         NaN\n",
       "Store 3        2   3.5      Fish Food    Bob   Other  33 4th Ave"
      ]
     },
     "execution_count": 51,
     "metadata": {},
     "output_type": "execute_result"
    }
   ],
   "source": [
    "print(df)\n",
    "df.set_index('index') # This sets the index back to Store number"
   ]
  },
  {
   "cell_type": "markdown",
   "metadata": {},
   "source": [
    "#### Create a dataframe with more than one index\n",
    "\n",
    "You can add a additional index to a dataframe."
   ]
  },
  {
   "cell_type": "code",
   "execution_count": 56,
   "metadata": {},
   "outputs": [
    {
     "name": "stdout",
     "output_type": "stream",
     "text": [
      "   level_0    index  Cost Item Purchased   Name Billing     Address\n",
      "0        0  Store 1  22.5       Dog Food  Chris    Cash  111 1st St\n",
      "1        1  Store 1   2.5   Kitty Litter  Kevyn  Credit         NaN\n",
      "2        2  Store 3   3.5      Fish Food    Bob   Other  33 4th Ave\n"
     ]
    },
    {
     "data": {
      "text/html": [
       "<div>\n",
       "<style>\n",
       "    .dataframe thead tr:only-child th {\n",
       "        text-align: right;\n",
       "    }\n",
       "\n",
       "    .dataframe thead th {\n",
       "        text-align: left;\n",
       "    }\n",
       "\n",
       "    .dataframe tbody tr th {\n",
       "        vertical-align: top;\n",
       "    }\n",
       "</style>\n",
       "<table border=\"1\" class=\"dataframe\">\n",
       "  <thead>\n",
       "    <tr style=\"text-align: right;\">\n",
       "      <th></th>\n",
       "      <th></th>\n",
       "      <th>level_0</th>\n",
       "      <th>Item Purchased</th>\n",
       "      <th>Name</th>\n",
       "      <th>Billing</th>\n",
       "      <th>Address</th>\n",
       "    </tr>\n",
       "    <tr>\n",
       "      <th>index</th>\n",
       "      <th>Cost</th>\n",
       "      <th></th>\n",
       "      <th></th>\n",
       "      <th></th>\n",
       "      <th></th>\n",
       "      <th></th>\n",
       "    </tr>\n",
       "  </thead>\n",
       "  <tbody>\n",
       "    <tr>\n",
       "      <th rowspan=\"2\" valign=\"top\">Store 1</th>\n",
       "      <th>22.5</th>\n",
       "      <td>0</td>\n",
       "      <td>Dog Food</td>\n",
       "      <td>Chris</td>\n",
       "      <td>Cash</td>\n",
       "      <td>111 1st St</td>\n",
       "    </tr>\n",
       "    <tr>\n",
       "      <th>2.5</th>\n",
       "      <td>1</td>\n",
       "      <td>Kitty Litter</td>\n",
       "      <td>Kevyn</td>\n",
       "      <td>Credit</td>\n",
       "      <td>NaN</td>\n",
       "    </tr>\n",
       "    <tr>\n",
       "      <th>Store 3</th>\n",
       "      <th>3.5</th>\n",
       "      <td>2</td>\n",
       "      <td>Fish Food</td>\n",
       "      <td>Bob</td>\n",
       "      <td>Other</td>\n",
       "      <td>33 4th Ave</td>\n",
       "    </tr>\n",
       "  </tbody>\n",
       "</table>\n",
       "</div>"
      ],
      "text/plain": [
       "              level_0 Item Purchased   Name Billing     Address\n",
       "index   Cost                                                   \n",
       "Store 1 22.5        0       Dog Food  Chris    Cash  111 1st St\n",
       "        2.5         1   Kitty Litter  Kevyn  Credit         NaN\n",
       "Store 3 3.5         2      Fish Food    Bob   Other  33 4th Ave"
      ]
     },
     "execution_count": 56,
     "metadata": {},
     "output_type": "execute_result"
    }
   ],
   "source": [
    "print(df)\n",
    "# Set a multilevel index\n",
    "df.set_index(['index', 'Cost'])"
   ]
  },
  {
   "cell_type": "markdown",
   "metadata": {},
   "source": [
    "Dataframes and Series can be created with a multi-level index"
   ]
  },
  {
   "cell_type": "code",
   "execution_count": null,
   "metadata": {
    "collapsed": true
   },
   "outputs": [],
   "source": [
    "## Create a index with the MultiIndex command."
   ]
  },
  {
   "cell_type": "markdown",
   "metadata": {},
   "source": [
    "#### Concat"
   ]
  },
  {
   "cell_type": "code",
   "execution_count": 91,
   "metadata": {},
   "outputs": [
    {
     "data": {
      "text/html": [
       "<div>\n",
       "<style>\n",
       "    .dataframe thead tr:only-child th {\n",
       "        text-align: right;\n",
       "    }\n",
       "\n",
       "    .dataframe thead th {\n",
       "        text-align: left;\n",
       "    }\n",
       "\n",
       "    .dataframe tbody tr th {\n",
       "        vertical-align: top;\n",
       "    }\n",
       "</style>\n",
       "<table border=\"1\" class=\"dataframe\">\n",
       "  <thead>\n",
       "    <tr style=\"text-align: right;\">\n",
       "      <th></th>\n",
       "      <th>0</th>\n",
       "      <th>1</th>\n",
       "      <th>2</th>\n",
       "      <th>3</th>\n",
       "    </tr>\n",
       "  </thead>\n",
       "  <tbody>\n",
       "    <tr>\n",
       "      <th>0</th>\n",
       "      <td>-1.168765</td>\n",
       "      <td>0.371645</td>\n",
       "      <td>1.565012</td>\n",
       "      <td>-0.845011</td>\n",
       "    </tr>\n",
       "    <tr>\n",
       "      <th>1</th>\n",
       "      <td>0.517102</td>\n",
       "      <td>0.392093</td>\n",
       "      <td>1.800495</td>\n",
       "      <td>-0.300281</td>\n",
       "    </tr>\n",
       "    <tr>\n",
       "      <th>2</th>\n",
       "      <td>0.173541</td>\n",
       "      <td>1.028144</td>\n",
       "      <td>0.578693</td>\n",
       "      <td>-1.537975</td>\n",
       "    </tr>\n",
       "    <tr>\n",
       "      <th>3</th>\n",
       "      <td>-0.272503</td>\n",
       "      <td>0.098702</td>\n",
       "      <td>0.487645</td>\n",
       "      <td>-1.299863</td>\n",
       "    </tr>\n",
       "    <tr>\n",
       "      <th>4</th>\n",
       "      <td>0.991742</td>\n",
       "      <td>-0.460063</td>\n",
       "      <td>0.644994</td>\n",
       "      <td>-0.842089</td>\n",
       "    </tr>\n",
       "    <tr>\n",
       "      <th>5</th>\n",
       "      <td>-0.650223</td>\n",
       "      <td>0.712008</td>\n",
       "      <td>1.931752</td>\n",
       "      <td>-0.065586</td>\n",
       "    </tr>\n",
       "    <tr>\n",
       "      <th>6</th>\n",
       "      <td>-0.217478</td>\n",
       "      <td>0.190247</td>\n",
       "      <td>-1.591772</td>\n",
       "      <td>1.685256</td>\n",
       "    </tr>\n",
       "    <tr>\n",
       "      <th>7</th>\n",
       "      <td>0.670938</td>\n",
       "      <td>-0.298040</td>\n",
       "      <td>0.435240</td>\n",
       "      <td>1.335129</td>\n",
       "    </tr>\n",
       "    <tr>\n",
       "      <th>8</th>\n",
       "      <td>0.050563</td>\n",
       "      <td>0.450967</td>\n",
       "      <td>-0.316447</td>\n",
       "      <td>-0.829448</td>\n",
       "    </tr>\n",
       "    <tr>\n",
       "      <th>9</th>\n",
       "      <td>-1.180647</td>\n",
       "      <td>2.225251</td>\n",
       "      <td>1.646626</td>\n",
       "      <td>-1.463991</td>\n",
       "    </tr>\n",
       "    <tr>\n",
       "      <th>10</th>\n",
       "      <td>1.370242</td>\n",
       "      <td>1.763201</td>\n",
       "      <td>-0.367553</td>\n",
       "      <td>0.178946</td>\n",
       "    </tr>\n",
       "    <tr>\n",
       "      <th>11</th>\n",
       "      <td>-0.317234</td>\n",
       "      <td>-0.273742</td>\n",
       "      <td>1.207880</td>\n",
       "      <td>-0.842053</td>\n",
       "    </tr>\n",
       "    <tr>\n",
       "      <th>12</th>\n",
       "      <td>1.220386</td>\n",
       "      <td>0.478382</td>\n",
       "      <td>0.231779</td>\n",
       "      <td>-0.313653</td>\n",
       "    </tr>\n",
       "    <tr>\n",
       "      <th>13</th>\n",
       "      <td>1.330094</td>\n",
       "      <td>0.420460</td>\n",
       "      <td>1.492536</td>\n",
       "      <td>-1.018404</td>\n",
       "    </tr>\n",
       "    <tr>\n",
       "      <th>14</th>\n",
       "      <td>1.306477</td>\n",
       "      <td>-0.947176</td>\n",
       "      <td>0.396437</td>\n",
       "      <td>0.550152</td>\n",
       "    </tr>\n",
       "    <tr>\n",
       "      <th>15</th>\n",
       "      <td>1.299959</td>\n",
       "      <td>-0.328055</td>\n",
       "      <td>1.202231</td>\n",
       "      <td>-0.852863</td>\n",
       "    </tr>\n",
       "    <tr>\n",
       "      <th>16</th>\n",
       "      <td>-0.829753</td>\n",
       "      <td>-0.277267</td>\n",
       "      <td>1.725627</td>\n",
       "      <td>-1.078979</td>\n",
       "    </tr>\n",
       "    <tr>\n",
       "      <th>17</th>\n",
       "      <td>-2.590715</td>\n",
       "      <td>2.002878</td>\n",
       "      <td>-0.032230</td>\n",
       "      <td>-0.154243</td>\n",
       "    </tr>\n",
       "    <tr>\n",
       "      <th>18</th>\n",
       "      <td>0.078849</td>\n",
       "      <td>0.042544</td>\n",
       "      <td>-0.422580</td>\n",
       "      <td>1.181525</td>\n",
       "    </tr>\n",
       "    <tr>\n",
       "      <th>19</th>\n",
       "      <td>-0.921673</td>\n",
       "      <td>0.411411</td>\n",
       "      <td>-1.543688</td>\n",
       "      <td>-0.021894</td>\n",
       "    </tr>\n",
       "    <tr>\n",
       "      <th>0</th>\n",
       "      <td>1.825941</td>\n",
       "      <td>-0.855205</td>\n",
       "      <td>0.425971</td>\n",
       "      <td>0.830299</td>\n",
       "    </tr>\n",
       "    <tr>\n",
       "      <th>1</th>\n",
       "      <td>0.931016</td>\n",
       "      <td>0.757887</td>\n",
       "      <td>-0.804738</td>\n",
       "      <td>1.692968</td>\n",
       "    </tr>\n",
       "    <tr>\n",
       "      <th>2</th>\n",
       "      <td>0.225035</td>\n",
       "      <td>-0.273615</td>\n",
       "      <td>-0.013248</td>\n",
       "      <td>-1.132959</td>\n",
       "    </tr>\n",
       "    <tr>\n",
       "      <th>3</th>\n",
       "      <td>-0.344141</td>\n",
       "      <td>0.085986</td>\n",
       "      <td>0.529326</td>\n",
       "      <td>-0.282040</td>\n",
       "    </tr>\n",
       "    <tr>\n",
       "      <th>4</th>\n",
       "      <td>-2.076010</td>\n",
       "      <td>-0.148801</td>\n",
       "      <td>-0.006694</td>\n",
       "      <td>-1.203345</td>\n",
       "    </tr>\n",
       "    <tr>\n",
       "      <th>5</th>\n",
       "      <td>-0.259425</td>\n",
       "      <td>-0.298473</td>\n",
       "      <td>0.310002</td>\n",
       "      <td>0.591969</td>\n",
       "    </tr>\n",
       "    <tr>\n",
       "      <th>6</th>\n",
       "      <td>-0.773571</td>\n",
       "      <td>-0.910278</td>\n",
       "      <td>-0.420218</td>\n",
       "      <td>-0.398250</td>\n",
       "    </tr>\n",
       "    <tr>\n",
       "      <th>7</th>\n",
       "      <td>-0.569270</td>\n",
       "      <td>0.018300</td>\n",
       "      <td>-0.015293</td>\n",
       "      <td>-0.997104</td>\n",
       "    </tr>\n",
       "    <tr>\n",
       "      <th>8</th>\n",
       "      <td>-0.490252</td>\n",
       "      <td>-0.304810</td>\n",
       "      <td>-0.247996</td>\n",
       "      <td>0.379588</td>\n",
       "    </tr>\n",
       "    <tr>\n",
       "      <th>9</th>\n",
       "      <td>-0.179332</td>\n",
       "      <td>1.094338</td>\n",
       "      <td>-0.012596</td>\n",
       "      <td>0.355365</td>\n",
       "    </tr>\n",
       "    <tr>\n",
       "      <th>10</th>\n",
       "      <td>-0.121664</td>\n",
       "      <td>-0.340329</td>\n",
       "      <td>-1.089013</td>\n",
       "      <td>1.652092</td>\n",
       "    </tr>\n",
       "    <tr>\n",
       "      <th>11</th>\n",
       "      <td>0.037239</td>\n",
       "      <td>-0.492763</td>\n",
       "      <td>-0.144606</td>\n",
       "      <td>-0.410387</td>\n",
       "    </tr>\n",
       "    <tr>\n",
       "      <th>12</th>\n",
       "      <td>-2.282654</td>\n",
       "      <td>-0.805095</td>\n",
       "      <td>-1.248646</td>\n",
       "      <td>0.769354</td>\n",
       "    </tr>\n",
       "    <tr>\n",
       "      <th>13</th>\n",
       "      <td>1.064231</td>\n",
       "      <td>-0.025507</td>\n",
       "      <td>1.726086</td>\n",
       "      <td>-0.135831</td>\n",
       "    </tr>\n",
       "    <tr>\n",
       "      <th>14</th>\n",
       "      <td>0.074988</td>\n",
       "      <td>-0.596543</td>\n",
       "      <td>0.099904</td>\n",
       "      <td>0.763228</td>\n",
       "    </tr>\n",
       "    <tr>\n",
       "      <th>15</th>\n",
       "      <td>-0.083399</td>\n",
       "      <td>0.019215</td>\n",
       "      <td>-0.810700</td>\n",
       "      <td>1.023569</td>\n",
       "    </tr>\n",
       "    <tr>\n",
       "      <th>16</th>\n",
       "      <td>-1.379188</td>\n",
       "      <td>-1.076262</td>\n",
       "      <td>-0.183064</td>\n",
       "      <td>1.275824</td>\n",
       "    </tr>\n",
       "    <tr>\n",
       "      <th>17</th>\n",
       "      <td>-0.683639</td>\n",
       "      <td>-1.651324</td>\n",
       "      <td>-1.121995</td>\n",
       "      <td>-0.493307</td>\n",
       "    </tr>\n",
       "    <tr>\n",
       "      <th>18</th>\n",
       "      <td>0.666149</td>\n",
       "      <td>0.147597</td>\n",
       "      <td>-1.663873</td>\n",
       "      <td>0.609679</td>\n",
       "    </tr>\n",
       "    <tr>\n",
       "      <th>19</th>\n",
       "      <td>-1.574831</td>\n",
       "      <td>0.225763</td>\n",
       "      <td>1.012671</td>\n",
       "      <td>-0.361978</td>\n",
       "    </tr>\n",
       "  </tbody>\n",
       "</table>\n",
       "</div>"
      ],
      "text/plain": [
       "           0         1         2         3\n",
       "0  -1.168765  0.371645  1.565012 -0.845011\n",
       "1   0.517102  0.392093  1.800495 -0.300281\n",
       "2   0.173541  1.028144  0.578693 -1.537975\n",
       "3  -0.272503  0.098702  0.487645 -1.299863\n",
       "4   0.991742 -0.460063  0.644994 -0.842089\n",
       "5  -0.650223  0.712008  1.931752 -0.065586\n",
       "6  -0.217478  0.190247 -1.591772  1.685256\n",
       "7   0.670938 -0.298040  0.435240  1.335129\n",
       "8   0.050563  0.450967 -0.316447 -0.829448\n",
       "9  -1.180647  2.225251  1.646626 -1.463991\n",
       "10  1.370242  1.763201 -0.367553  0.178946\n",
       "11 -0.317234 -0.273742  1.207880 -0.842053\n",
       "12  1.220386  0.478382  0.231779 -0.313653\n",
       "13  1.330094  0.420460  1.492536 -1.018404\n",
       "14  1.306477 -0.947176  0.396437  0.550152\n",
       "15  1.299959 -0.328055  1.202231 -0.852863\n",
       "16 -0.829753 -0.277267  1.725627 -1.078979\n",
       "17 -2.590715  2.002878 -0.032230 -0.154243\n",
       "18  0.078849  0.042544 -0.422580  1.181525\n",
       "19 -0.921673  0.411411 -1.543688 -0.021894\n",
       "0   1.825941 -0.855205  0.425971  0.830299\n",
       "1   0.931016  0.757887 -0.804738  1.692968\n",
       "2   0.225035 -0.273615 -0.013248 -1.132959\n",
       "3  -0.344141  0.085986  0.529326 -0.282040\n",
       "4  -2.076010 -0.148801 -0.006694 -1.203345\n",
       "5  -0.259425 -0.298473  0.310002  0.591969\n",
       "6  -0.773571 -0.910278 -0.420218 -0.398250\n",
       "7  -0.569270  0.018300 -0.015293 -0.997104\n",
       "8  -0.490252 -0.304810 -0.247996  0.379588\n",
       "9  -0.179332  1.094338 -0.012596  0.355365\n",
       "10 -0.121664 -0.340329 -1.089013  1.652092\n",
       "11  0.037239 -0.492763 -0.144606 -0.410387\n",
       "12 -2.282654 -0.805095 -1.248646  0.769354\n",
       "13  1.064231 -0.025507  1.726086 -0.135831\n",
       "14  0.074988 -0.596543  0.099904  0.763228\n",
       "15 -0.083399  0.019215 -0.810700  1.023569\n",
       "16 -1.379188 -1.076262 -0.183064  1.275824\n",
       "17 -0.683639 -1.651324 -1.121995 -0.493307\n",
       "18  0.666149  0.147597 -1.663873  0.609679\n",
       "19 -1.574831  0.225763  1.012671 -0.361978"
      ]
     },
     "execution_count": 91,
     "metadata": {},
     "output_type": "execute_result"
    }
   ],
   "source": [
    "df1 = pd.DataFrame(np.random.randn(20,4))\n",
    "df2 = pd.DataFrame(np.random.randn(20,4))\n",
    "\n",
    "# By default concat will append as new rows.  Index values are repeated if \n",
    "# the same index is in both of the original dataframes.\n",
    "df3 = pd.concat([df1, df2])\n",
    "df3"
   ]
  },
  {
   "cell_type": "code",
   "execution_count": 93,
   "metadata": {},
   "outputs": [
    {
     "data": {
      "text/html": [
       "<div>\n",
       "<style>\n",
       "    .dataframe thead tr:only-child th {\n",
       "        text-align: right;\n",
       "    }\n",
       "\n",
       "    .dataframe thead th {\n",
       "        text-align: left;\n",
       "    }\n",
       "\n",
       "    .dataframe tbody tr th {\n",
       "        vertical-align: top;\n",
       "    }\n",
       "</style>\n",
       "<table border=\"1\" class=\"dataframe\">\n",
       "  <thead>\n",
       "    <tr style=\"text-align: right;\">\n",
       "      <th></th>\n",
       "      <th>0</th>\n",
       "      <th>1</th>\n",
       "      <th>2</th>\n",
       "      <th>3</th>\n",
       "      <th>0</th>\n",
       "      <th>1</th>\n",
       "      <th>2</th>\n",
       "      <th>3</th>\n",
       "    </tr>\n",
       "  </thead>\n",
       "  <tbody>\n",
       "    <tr>\n",
       "      <th>0</th>\n",
       "      <td>-1.168765</td>\n",
       "      <td>0.371645</td>\n",
       "      <td>1.565012</td>\n",
       "      <td>-0.845011</td>\n",
       "      <td>1.825941</td>\n",
       "      <td>-0.855205</td>\n",
       "      <td>0.425971</td>\n",
       "      <td>0.830299</td>\n",
       "    </tr>\n",
       "    <tr>\n",
       "      <th>1</th>\n",
       "      <td>0.517102</td>\n",
       "      <td>0.392093</td>\n",
       "      <td>1.800495</td>\n",
       "      <td>-0.300281</td>\n",
       "      <td>0.931016</td>\n",
       "      <td>0.757887</td>\n",
       "      <td>-0.804738</td>\n",
       "      <td>1.692968</td>\n",
       "    </tr>\n",
       "    <tr>\n",
       "      <th>2</th>\n",
       "      <td>0.173541</td>\n",
       "      <td>1.028144</td>\n",
       "      <td>0.578693</td>\n",
       "      <td>-1.537975</td>\n",
       "      <td>0.225035</td>\n",
       "      <td>-0.273615</td>\n",
       "      <td>-0.013248</td>\n",
       "      <td>-1.132959</td>\n",
       "    </tr>\n",
       "    <tr>\n",
       "      <th>3</th>\n",
       "      <td>-0.272503</td>\n",
       "      <td>0.098702</td>\n",
       "      <td>0.487645</td>\n",
       "      <td>-1.299863</td>\n",
       "      <td>-0.344141</td>\n",
       "      <td>0.085986</td>\n",
       "      <td>0.529326</td>\n",
       "      <td>-0.282040</td>\n",
       "    </tr>\n",
       "    <tr>\n",
       "      <th>4</th>\n",
       "      <td>0.991742</td>\n",
       "      <td>-0.460063</td>\n",
       "      <td>0.644994</td>\n",
       "      <td>-0.842089</td>\n",
       "      <td>-2.076010</td>\n",
       "      <td>-0.148801</td>\n",
       "      <td>-0.006694</td>\n",
       "      <td>-1.203345</td>\n",
       "    </tr>\n",
       "    <tr>\n",
       "      <th>5</th>\n",
       "      <td>-0.650223</td>\n",
       "      <td>0.712008</td>\n",
       "      <td>1.931752</td>\n",
       "      <td>-0.065586</td>\n",
       "      <td>-0.259425</td>\n",
       "      <td>-0.298473</td>\n",
       "      <td>0.310002</td>\n",
       "      <td>0.591969</td>\n",
       "    </tr>\n",
       "    <tr>\n",
       "      <th>6</th>\n",
       "      <td>-0.217478</td>\n",
       "      <td>0.190247</td>\n",
       "      <td>-1.591772</td>\n",
       "      <td>1.685256</td>\n",
       "      <td>-0.773571</td>\n",
       "      <td>-0.910278</td>\n",
       "      <td>-0.420218</td>\n",
       "      <td>-0.398250</td>\n",
       "    </tr>\n",
       "    <tr>\n",
       "      <th>7</th>\n",
       "      <td>0.670938</td>\n",
       "      <td>-0.298040</td>\n",
       "      <td>0.435240</td>\n",
       "      <td>1.335129</td>\n",
       "      <td>-0.569270</td>\n",
       "      <td>0.018300</td>\n",
       "      <td>-0.015293</td>\n",
       "      <td>-0.997104</td>\n",
       "    </tr>\n",
       "    <tr>\n",
       "      <th>8</th>\n",
       "      <td>0.050563</td>\n",
       "      <td>0.450967</td>\n",
       "      <td>-0.316447</td>\n",
       "      <td>-0.829448</td>\n",
       "      <td>-0.490252</td>\n",
       "      <td>-0.304810</td>\n",
       "      <td>-0.247996</td>\n",
       "      <td>0.379588</td>\n",
       "    </tr>\n",
       "    <tr>\n",
       "      <th>9</th>\n",
       "      <td>-1.180647</td>\n",
       "      <td>2.225251</td>\n",
       "      <td>1.646626</td>\n",
       "      <td>-1.463991</td>\n",
       "      <td>-0.179332</td>\n",
       "      <td>1.094338</td>\n",
       "      <td>-0.012596</td>\n",
       "      <td>0.355365</td>\n",
       "    </tr>\n",
       "    <tr>\n",
       "      <th>10</th>\n",
       "      <td>1.370242</td>\n",
       "      <td>1.763201</td>\n",
       "      <td>-0.367553</td>\n",
       "      <td>0.178946</td>\n",
       "      <td>-0.121664</td>\n",
       "      <td>-0.340329</td>\n",
       "      <td>-1.089013</td>\n",
       "      <td>1.652092</td>\n",
       "    </tr>\n",
       "    <tr>\n",
       "      <th>11</th>\n",
       "      <td>-0.317234</td>\n",
       "      <td>-0.273742</td>\n",
       "      <td>1.207880</td>\n",
       "      <td>-0.842053</td>\n",
       "      <td>0.037239</td>\n",
       "      <td>-0.492763</td>\n",
       "      <td>-0.144606</td>\n",
       "      <td>-0.410387</td>\n",
       "    </tr>\n",
       "    <tr>\n",
       "      <th>12</th>\n",
       "      <td>1.220386</td>\n",
       "      <td>0.478382</td>\n",
       "      <td>0.231779</td>\n",
       "      <td>-0.313653</td>\n",
       "      <td>-2.282654</td>\n",
       "      <td>-0.805095</td>\n",
       "      <td>-1.248646</td>\n",
       "      <td>0.769354</td>\n",
       "    </tr>\n",
       "    <tr>\n",
       "      <th>13</th>\n",
       "      <td>1.330094</td>\n",
       "      <td>0.420460</td>\n",
       "      <td>1.492536</td>\n",
       "      <td>-1.018404</td>\n",
       "      <td>1.064231</td>\n",
       "      <td>-0.025507</td>\n",
       "      <td>1.726086</td>\n",
       "      <td>-0.135831</td>\n",
       "    </tr>\n",
       "    <tr>\n",
       "      <th>14</th>\n",
       "      <td>1.306477</td>\n",
       "      <td>-0.947176</td>\n",
       "      <td>0.396437</td>\n",
       "      <td>0.550152</td>\n",
       "      <td>0.074988</td>\n",
       "      <td>-0.596543</td>\n",
       "      <td>0.099904</td>\n",
       "      <td>0.763228</td>\n",
       "    </tr>\n",
       "    <tr>\n",
       "      <th>15</th>\n",
       "      <td>1.299959</td>\n",
       "      <td>-0.328055</td>\n",
       "      <td>1.202231</td>\n",
       "      <td>-0.852863</td>\n",
       "      <td>-0.083399</td>\n",
       "      <td>0.019215</td>\n",
       "      <td>-0.810700</td>\n",
       "      <td>1.023569</td>\n",
       "    </tr>\n",
       "    <tr>\n",
       "      <th>16</th>\n",
       "      <td>-0.829753</td>\n",
       "      <td>-0.277267</td>\n",
       "      <td>1.725627</td>\n",
       "      <td>-1.078979</td>\n",
       "      <td>-1.379188</td>\n",
       "      <td>-1.076262</td>\n",
       "      <td>-0.183064</td>\n",
       "      <td>1.275824</td>\n",
       "    </tr>\n",
       "    <tr>\n",
       "      <th>17</th>\n",
       "      <td>-2.590715</td>\n",
       "      <td>2.002878</td>\n",
       "      <td>-0.032230</td>\n",
       "      <td>-0.154243</td>\n",
       "      <td>-0.683639</td>\n",
       "      <td>-1.651324</td>\n",
       "      <td>-1.121995</td>\n",
       "      <td>-0.493307</td>\n",
       "    </tr>\n",
       "    <tr>\n",
       "      <th>18</th>\n",
       "      <td>0.078849</td>\n",
       "      <td>0.042544</td>\n",
       "      <td>-0.422580</td>\n",
       "      <td>1.181525</td>\n",
       "      <td>0.666149</td>\n",
       "      <td>0.147597</td>\n",
       "      <td>-1.663873</td>\n",
       "      <td>0.609679</td>\n",
       "    </tr>\n",
       "    <tr>\n",
       "      <th>19</th>\n",
       "      <td>-0.921673</td>\n",
       "      <td>0.411411</td>\n",
       "      <td>-1.543688</td>\n",
       "      <td>-0.021894</td>\n",
       "      <td>-1.574831</td>\n",
       "      <td>0.225763</td>\n",
       "      <td>1.012671</td>\n",
       "      <td>-0.361978</td>\n",
       "    </tr>\n",
       "  </tbody>\n",
       "</table>\n",
       "</div>"
      ],
      "text/plain": [
       "           0         1         2         3         0         1         2  \\\n",
       "0  -1.168765  0.371645  1.565012 -0.845011  1.825941 -0.855205  0.425971   \n",
       "1   0.517102  0.392093  1.800495 -0.300281  0.931016  0.757887 -0.804738   \n",
       "2   0.173541  1.028144  0.578693 -1.537975  0.225035 -0.273615 -0.013248   \n",
       "3  -0.272503  0.098702  0.487645 -1.299863 -0.344141  0.085986  0.529326   \n",
       "4   0.991742 -0.460063  0.644994 -0.842089 -2.076010 -0.148801 -0.006694   \n",
       "5  -0.650223  0.712008  1.931752 -0.065586 -0.259425 -0.298473  0.310002   \n",
       "6  -0.217478  0.190247 -1.591772  1.685256 -0.773571 -0.910278 -0.420218   \n",
       "7   0.670938 -0.298040  0.435240  1.335129 -0.569270  0.018300 -0.015293   \n",
       "8   0.050563  0.450967 -0.316447 -0.829448 -0.490252 -0.304810 -0.247996   \n",
       "9  -1.180647  2.225251  1.646626 -1.463991 -0.179332  1.094338 -0.012596   \n",
       "10  1.370242  1.763201 -0.367553  0.178946 -0.121664 -0.340329 -1.089013   \n",
       "11 -0.317234 -0.273742  1.207880 -0.842053  0.037239 -0.492763 -0.144606   \n",
       "12  1.220386  0.478382  0.231779 -0.313653 -2.282654 -0.805095 -1.248646   \n",
       "13  1.330094  0.420460  1.492536 -1.018404  1.064231 -0.025507  1.726086   \n",
       "14  1.306477 -0.947176  0.396437  0.550152  0.074988 -0.596543  0.099904   \n",
       "15  1.299959 -0.328055  1.202231 -0.852863 -0.083399  0.019215 -0.810700   \n",
       "16 -0.829753 -0.277267  1.725627 -1.078979 -1.379188 -1.076262 -0.183064   \n",
       "17 -2.590715  2.002878 -0.032230 -0.154243 -0.683639 -1.651324 -1.121995   \n",
       "18  0.078849  0.042544 -0.422580  1.181525  0.666149  0.147597 -1.663873   \n",
       "19 -0.921673  0.411411 -1.543688 -0.021894 -1.574831  0.225763  1.012671   \n",
       "\n",
       "           3  \n",
       "0   0.830299  \n",
       "1   1.692968  \n",
       "2  -1.132959  \n",
       "3  -0.282040  \n",
       "4  -1.203345  \n",
       "5   0.591969  \n",
       "6  -0.398250  \n",
       "7  -0.997104  \n",
       "8   0.379588  \n",
       "9   0.355365  \n",
       "10  1.652092  \n",
       "11 -0.410387  \n",
       "12  0.769354  \n",
       "13 -0.135831  \n",
       "14  0.763228  \n",
       "15  1.023569  \n",
       "16  1.275824  \n",
       "17 -0.493307  \n",
       "18  0.609679  \n",
       "19 -0.361978  "
      ]
     },
     "execution_count": 93,
     "metadata": {},
     "output_type": "execute_result"
    }
   ],
   "source": [
    "# Specify axis=1 to append the series together as new columns.\n",
    "\n",
    "df4 = pd.concat([df1, df2], axis=1)\n",
    "df4"
   ]
  },
  {
   "cell_type": "markdown",
   "metadata": {
    "collapsed": true
   },
   "source": [
    "#### Dataframe Queries\n",
    "\n"
   ]
  },
  {
   "cell_type": "code",
   "execution_count": null,
   "metadata": {
    "collapsed": true
   },
   "outputs": [],
   "source": []
  },
  {
   "cell_type": "code",
   "execution_count": null,
   "metadata": {
    "collapsed": true
   },
   "outputs": [],
   "source": []
  },
  {
   "cell_type": "markdown",
   "metadata": {},
   "source": [
    "#### Plotting a dataframe"
   ]
  },
  {
   "cell_type": "code",
   "execution_count": 84,
   "metadata": {},
   "outputs": [
    {
     "data": {
      "text/html": [
       "<div>\n",
       "<style>\n",
       "    .dataframe thead tr:only-child th {\n",
       "        text-align: right;\n",
       "    }\n",
       "\n",
       "    .dataframe thead th {\n",
       "        text-align: left;\n",
       "    }\n",
       "\n",
       "    .dataframe tbody tr th {\n",
       "        vertical-align: top;\n",
       "    }\n",
       "</style>\n",
       "<table border=\"1\" class=\"dataframe\">\n",
       "  <thead>\n",
       "    <tr style=\"text-align: right;\">\n",
       "      <th></th>\n",
       "      <th>0</th>\n",
       "      <th>1</th>\n",
       "      <th>2</th>\n",
       "      <th>3</th>\n",
       "    </tr>\n",
       "  </thead>\n",
       "  <tbody>\n",
       "    <tr>\n",
       "      <th>0</th>\n",
       "      <td>-1.038526</td>\n",
       "      <td>-0.084759</td>\n",
       "      <td>0.050075</td>\n",
       "      <td>0.015006</td>\n",
       "    </tr>\n",
       "    <tr>\n",
       "      <th>1</th>\n",
       "      <td>0.145861</td>\n",
       "      <td>0.995847</td>\n",
       "      <td>0.714745</td>\n",
       "      <td>-0.162379</td>\n",
       "    </tr>\n",
       "    <tr>\n",
       "      <th>2</th>\n",
       "      <td>1.182988</td>\n",
       "      <td>-0.183175</td>\n",
       "      <td>-1.167302</td>\n",
       "      <td>-0.523386</td>\n",
       "    </tr>\n",
       "    <tr>\n",
       "      <th>3</th>\n",
       "      <td>0.344461</td>\n",
       "      <td>2.460609</td>\n",
       "      <td>0.020494</td>\n",
       "      <td>1.357933</td>\n",
       "    </tr>\n",
       "    <tr>\n",
       "      <th>4</th>\n",
       "      <td>-0.300881</td>\n",
       "      <td>1.668455</td>\n",
       "      <td>0.489863</td>\n",
       "      <td>0.849273</td>\n",
       "    </tr>\n",
       "    <tr>\n",
       "      <th>5</th>\n",
       "      <td>-0.787487</td>\n",
       "      <td>-0.887616</td>\n",
       "      <td>-0.044906</td>\n",
       "      <td>-2.361368</td>\n",
       "    </tr>\n",
       "    <tr>\n",
       "      <th>6</th>\n",
       "      <td>0.689660</td>\n",
       "      <td>0.207169</td>\n",
       "      <td>0.330773</td>\n",
       "      <td>-1.350909</td>\n",
       "    </tr>\n",
       "    <tr>\n",
       "      <th>7</th>\n",
       "      <td>0.508577</td>\n",
       "      <td>0.749349</td>\n",
       "      <td>1.980057</td>\n",
       "      <td>-0.551125</td>\n",
       "    </tr>\n",
       "    <tr>\n",
       "      <th>8</th>\n",
       "      <td>-1.309848</td>\n",
       "      <td>-0.058530</td>\n",
       "      <td>-0.076386</td>\n",
       "      <td>-0.687721</td>\n",
       "    </tr>\n",
       "    <tr>\n",
       "      <th>9</th>\n",
       "      <td>-1.397511</td>\n",
       "      <td>1.038429</td>\n",
       "      <td>1.044666</td>\n",
       "      <td>-0.145340</td>\n",
       "    </tr>\n",
       "    <tr>\n",
       "      <th>10</th>\n",
       "      <td>-0.093368</td>\n",
       "      <td>0.873787</td>\n",
       "      <td>0.025137</td>\n",
       "      <td>-1.484741</td>\n",
       "    </tr>\n",
       "    <tr>\n",
       "      <th>11</th>\n",
       "      <td>1.496796</td>\n",
       "      <td>-0.464439</td>\n",
       "      <td>-0.877462</td>\n",
       "      <td>-0.384895</td>\n",
       "    </tr>\n",
       "    <tr>\n",
       "      <th>12</th>\n",
       "      <td>1.153711</td>\n",
       "      <td>0.313784</td>\n",
       "      <td>0.321875</td>\n",
       "      <td>0.007648</td>\n",
       "    </tr>\n",
       "    <tr>\n",
       "      <th>13</th>\n",
       "      <td>1.485657</td>\n",
       "      <td>1.152463</td>\n",
       "      <td>0.108544</td>\n",
       "      <td>0.242420</td>\n",
       "    </tr>\n",
       "    <tr>\n",
       "      <th>14</th>\n",
       "      <td>0.852878</td>\n",
       "      <td>0.620958</td>\n",
       "      <td>2.493500</td>\n",
       "      <td>1.214391</td>\n",
       "    </tr>\n",
       "    <tr>\n",
       "      <th>15</th>\n",
       "      <td>0.655570</td>\n",
       "      <td>-0.000916</td>\n",
       "      <td>-0.379585</td>\n",
       "      <td>-0.568231</td>\n",
       "    </tr>\n",
       "    <tr>\n",
       "      <th>16</th>\n",
       "      <td>0.846485</td>\n",
       "      <td>0.713398</td>\n",
       "      <td>-0.272916</td>\n",
       "      <td>-0.874602</td>\n",
       "    </tr>\n",
       "    <tr>\n",
       "      <th>17</th>\n",
       "      <td>-1.212411</td>\n",
       "      <td>0.456104</td>\n",
       "      <td>1.403831</td>\n",
       "      <td>-0.893300</td>\n",
       "    </tr>\n",
       "    <tr>\n",
       "      <th>18</th>\n",
       "      <td>-0.281105</td>\n",
       "      <td>-1.056199</td>\n",
       "      <td>0.852802</td>\n",
       "      <td>-0.177531</td>\n",
       "    </tr>\n",
       "    <tr>\n",
       "      <th>19</th>\n",
       "      <td>-0.319999</td>\n",
       "      <td>1.560204</td>\n",
       "      <td>1.138219</td>\n",
       "      <td>0.392423</td>\n",
       "    </tr>\n",
       "    <tr>\n",
       "      <th>20</th>\n",
       "      <td>0.446784</td>\n",
       "      <td>-1.567183</td>\n",
       "      <td>-0.340904</td>\n",
       "      <td>-0.900919</td>\n",
       "    </tr>\n",
       "    <tr>\n",
       "      <th>21</th>\n",
       "      <td>-1.613509</td>\n",
       "      <td>-1.100619</td>\n",
       "      <td>0.629465</td>\n",
       "      <td>1.761898</td>\n",
       "    </tr>\n",
       "    <tr>\n",
       "      <th>22</th>\n",
       "      <td>-0.218314</td>\n",
       "      <td>-0.786815</td>\n",
       "      <td>-1.098215</td>\n",
       "      <td>-1.084200</td>\n",
       "    </tr>\n",
       "    <tr>\n",
       "      <th>23</th>\n",
       "      <td>0.953869</td>\n",
       "      <td>-1.037512</td>\n",
       "      <td>0.206506</td>\n",
       "      <td>1.269047</td>\n",
       "    </tr>\n",
       "    <tr>\n",
       "      <th>24</th>\n",
       "      <td>-2.275762</td>\n",
       "      <td>-0.743893</td>\n",
       "      <td>0.253295</td>\n",
       "      <td>-0.351255</td>\n",
       "    </tr>\n",
       "    <tr>\n",
       "      <th>25</th>\n",
       "      <td>0.589543</td>\n",
       "      <td>-0.834983</td>\n",
       "      <td>-0.352637</td>\n",
       "      <td>-0.125399</td>\n",
       "    </tr>\n",
       "    <tr>\n",
       "      <th>26</th>\n",
       "      <td>-0.246868</td>\n",
       "      <td>-0.351264</td>\n",
       "      <td>0.762639</td>\n",
       "      <td>-1.695441</td>\n",
       "    </tr>\n",
       "    <tr>\n",
       "      <th>27</th>\n",
       "      <td>0.116075</td>\n",
       "      <td>0.408478</td>\n",
       "      <td>1.206977</td>\n",
       "      <td>-0.147928</td>\n",
       "    </tr>\n",
       "    <tr>\n",
       "      <th>28</th>\n",
       "      <td>-0.557453</td>\n",
       "      <td>-0.505129</td>\n",
       "      <td>0.886332</td>\n",
       "      <td>1.761876</td>\n",
       "    </tr>\n",
       "    <tr>\n",
       "      <th>29</th>\n",
       "      <td>-1.513662</td>\n",
       "      <td>0.151021</td>\n",
       "      <td>-0.802274</td>\n",
       "      <td>0.876260</td>\n",
       "    </tr>\n",
       "    <tr>\n",
       "      <th>...</th>\n",
       "      <td>...</td>\n",
       "      <td>...</td>\n",
       "      <td>...</td>\n",
       "      <td>...</td>\n",
       "    </tr>\n",
       "    <tr>\n",
       "      <th>970</th>\n",
       "      <td>-0.325955</td>\n",
       "      <td>1.300707</td>\n",
       "      <td>-1.041826</td>\n",
       "      <td>0.289875</td>\n",
       "    </tr>\n",
       "    <tr>\n",
       "      <th>971</th>\n",
       "      <td>0.533655</td>\n",
       "      <td>0.558556</td>\n",
       "      <td>-0.166873</td>\n",
       "      <td>-0.307681</td>\n",
       "    </tr>\n",
       "    <tr>\n",
       "      <th>972</th>\n",
       "      <td>-1.317392</td>\n",
       "      <td>0.671666</td>\n",
       "      <td>-0.336249</td>\n",
       "      <td>-0.348123</td>\n",
       "    </tr>\n",
       "    <tr>\n",
       "      <th>973</th>\n",
       "      <td>0.143341</td>\n",
       "      <td>0.255298</td>\n",
       "      <td>1.067556</td>\n",
       "      <td>0.336693</td>\n",
       "    </tr>\n",
       "    <tr>\n",
       "      <th>974</th>\n",
       "      <td>-0.426539</td>\n",
       "      <td>-0.935748</td>\n",
       "      <td>-0.855104</td>\n",
       "      <td>-0.183965</td>\n",
       "    </tr>\n",
       "    <tr>\n",
       "      <th>975</th>\n",
       "      <td>-1.523942</td>\n",
       "      <td>0.737988</td>\n",
       "      <td>0.355601</td>\n",
       "      <td>0.203288</td>\n",
       "    </tr>\n",
       "    <tr>\n",
       "      <th>976</th>\n",
       "      <td>-0.131200</td>\n",
       "      <td>-0.879677</td>\n",
       "      <td>0.407859</td>\n",
       "      <td>0.984815</td>\n",
       "    </tr>\n",
       "    <tr>\n",
       "      <th>977</th>\n",
       "      <td>0.064034</td>\n",
       "      <td>-0.196029</td>\n",
       "      <td>-0.790183</td>\n",
       "      <td>1.329160</td>\n",
       "    </tr>\n",
       "    <tr>\n",
       "      <th>978</th>\n",
       "      <td>0.388433</td>\n",
       "      <td>-0.693528</td>\n",
       "      <td>0.158885</td>\n",
       "      <td>-1.576598</td>\n",
       "    </tr>\n",
       "    <tr>\n",
       "      <th>979</th>\n",
       "      <td>-0.188737</td>\n",
       "      <td>0.951674</td>\n",
       "      <td>-0.343251</td>\n",
       "      <td>-0.909537</td>\n",
       "    </tr>\n",
       "    <tr>\n",
       "      <th>980</th>\n",
       "      <td>0.971592</td>\n",
       "      <td>-1.939364</td>\n",
       "      <td>0.829285</td>\n",
       "      <td>-0.221605</td>\n",
       "    </tr>\n",
       "    <tr>\n",
       "      <th>981</th>\n",
       "      <td>-0.518474</td>\n",
       "      <td>1.237332</td>\n",
       "      <td>-0.166341</td>\n",
       "      <td>0.808910</td>\n",
       "    </tr>\n",
       "    <tr>\n",
       "      <th>982</th>\n",
       "      <td>-1.099230</td>\n",
       "      <td>1.105209</td>\n",
       "      <td>1.369492</td>\n",
       "      <td>-0.529291</td>\n",
       "    </tr>\n",
       "    <tr>\n",
       "      <th>983</th>\n",
       "      <td>-1.592271</td>\n",
       "      <td>-1.621636</td>\n",
       "      <td>0.050622</td>\n",
       "      <td>0.312629</td>\n",
       "    </tr>\n",
       "    <tr>\n",
       "      <th>984</th>\n",
       "      <td>-2.606274</td>\n",
       "      <td>-0.722583</td>\n",
       "      <td>1.304872</td>\n",
       "      <td>0.850284</td>\n",
       "    </tr>\n",
       "    <tr>\n",
       "      <th>985</th>\n",
       "      <td>-0.152623</td>\n",
       "      <td>0.058851</td>\n",
       "      <td>0.634327</td>\n",
       "      <td>0.346938</td>\n",
       "    </tr>\n",
       "    <tr>\n",
       "      <th>986</th>\n",
       "      <td>0.003133</td>\n",
       "      <td>0.236820</td>\n",
       "      <td>-0.386014</td>\n",
       "      <td>1.120876</td>\n",
       "    </tr>\n",
       "    <tr>\n",
       "      <th>987</th>\n",
       "      <td>1.833109</td>\n",
       "      <td>-0.222317</td>\n",
       "      <td>-1.068465</td>\n",
       "      <td>-0.453893</td>\n",
       "    </tr>\n",
       "    <tr>\n",
       "      <th>988</th>\n",
       "      <td>2.487311</td>\n",
       "      <td>-2.001306</td>\n",
       "      <td>-0.832336</td>\n",
       "      <td>1.756106</td>\n",
       "    </tr>\n",
       "    <tr>\n",
       "      <th>989</th>\n",
       "      <td>2.043774</td>\n",
       "      <td>-1.660305</td>\n",
       "      <td>2.253986</td>\n",
       "      <td>0.251617</td>\n",
       "    </tr>\n",
       "    <tr>\n",
       "      <th>990</th>\n",
       "      <td>0.012130</td>\n",
       "      <td>-1.223591</td>\n",
       "      <td>0.246740</td>\n",
       "      <td>-0.685018</td>\n",
       "    </tr>\n",
       "    <tr>\n",
       "      <th>991</th>\n",
       "      <td>1.630914</td>\n",
       "      <td>0.160394</td>\n",
       "      <td>-0.281570</td>\n",
       "      <td>-0.216763</td>\n",
       "    </tr>\n",
       "    <tr>\n",
       "      <th>992</th>\n",
       "      <td>-0.501756</td>\n",
       "      <td>-0.242726</td>\n",
       "      <td>-1.796611</td>\n",
       "      <td>-1.323418</td>\n",
       "    </tr>\n",
       "    <tr>\n",
       "      <th>993</th>\n",
       "      <td>0.372079</td>\n",
       "      <td>1.039938</td>\n",
       "      <td>-1.564220</td>\n",
       "      <td>-1.012337</td>\n",
       "    </tr>\n",
       "    <tr>\n",
       "      <th>994</th>\n",
       "      <td>0.324526</td>\n",
       "      <td>-1.007482</td>\n",
       "      <td>-0.667711</td>\n",
       "      <td>0.046132</td>\n",
       "    </tr>\n",
       "    <tr>\n",
       "      <th>995</th>\n",
       "      <td>1.269518</td>\n",
       "      <td>0.439448</td>\n",
       "      <td>-0.281279</td>\n",
       "      <td>0.962341</td>\n",
       "    </tr>\n",
       "    <tr>\n",
       "      <th>996</th>\n",
       "      <td>-0.706903</td>\n",
       "      <td>-1.767376</td>\n",
       "      <td>-0.127548</td>\n",
       "      <td>-0.977523</td>\n",
       "    </tr>\n",
       "    <tr>\n",
       "      <th>997</th>\n",
       "      <td>-0.790737</td>\n",
       "      <td>-1.430248</td>\n",
       "      <td>-1.291311</td>\n",
       "      <td>-0.416880</td>\n",
       "    </tr>\n",
       "    <tr>\n",
       "      <th>998</th>\n",
       "      <td>-1.167470</td>\n",
       "      <td>0.078721</td>\n",
       "      <td>-1.212204</td>\n",
       "      <td>1.091605</td>\n",
       "    </tr>\n",
       "    <tr>\n",
       "      <th>999</th>\n",
       "      <td>0.271186</td>\n",
       "      <td>-0.705960</td>\n",
       "      <td>0.097968</td>\n",
       "      <td>1.265749</td>\n",
       "    </tr>\n",
       "  </tbody>\n",
       "</table>\n",
       "<p>1000 rows × 4 columns</p>\n",
       "</div>"
      ],
      "text/plain": [
       "            0         1         2         3\n",
       "0   -1.038526 -0.084759  0.050075  0.015006\n",
       "1    0.145861  0.995847  0.714745 -0.162379\n",
       "2    1.182988 -0.183175 -1.167302 -0.523386\n",
       "3    0.344461  2.460609  0.020494  1.357933\n",
       "4   -0.300881  1.668455  0.489863  0.849273\n",
       "5   -0.787487 -0.887616 -0.044906 -2.361368\n",
       "6    0.689660  0.207169  0.330773 -1.350909\n",
       "7    0.508577  0.749349  1.980057 -0.551125\n",
       "8   -1.309848 -0.058530 -0.076386 -0.687721\n",
       "9   -1.397511  1.038429  1.044666 -0.145340\n",
       "10  -0.093368  0.873787  0.025137 -1.484741\n",
       "11   1.496796 -0.464439 -0.877462 -0.384895\n",
       "12   1.153711  0.313784  0.321875  0.007648\n",
       "13   1.485657  1.152463  0.108544  0.242420\n",
       "14   0.852878  0.620958  2.493500  1.214391\n",
       "15   0.655570 -0.000916 -0.379585 -0.568231\n",
       "16   0.846485  0.713398 -0.272916 -0.874602\n",
       "17  -1.212411  0.456104  1.403831 -0.893300\n",
       "18  -0.281105 -1.056199  0.852802 -0.177531\n",
       "19  -0.319999  1.560204  1.138219  0.392423\n",
       "20   0.446784 -1.567183 -0.340904 -0.900919\n",
       "21  -1.613509 -1.100619  0.629465  1.761898\n",
       "22  -0.218314 -0.786815 -1.098215 -1.084200\n",
       "23   0.953869 -1.037512  0.206506  1.269047\n",
       "24  -2.275762 -0.743893  0.253295 -0.351255\n",
       "25   0.589543 -0.834983 -0.352637 -0.125399\n",
       "26  -0.246868 -0.351264  0.762639 -1.695441\n",
       "27   0.116075  0.408478  1.206977 -0.147928\n",
       "28  -0.557453 -0.505129  0.886332  1.761876\n",
       "29  -1.513662  0.151021 -0.802274  0.876260\n",
       "..        ...       ...       ...       ...\n",
       "970 -0.325955  1.300707 -1.041826  0.289875\n",
       "971  0.533655  0.558556 -0.166873 -0.307681\n",
       "972 -1.317392  0.671666 -0.336249 -0.348123\n",
       "973  0.143341  0.255298  1.067556  0.336693\n",
       "974 -0.426539 -0.935748 -0.855104 -0.183965\n",
       "975 -1.523942  0.737988  0.355601  0.203288\n",
       "976 -0.131200 -0.879677  0.407859  0.984815\n",
       "977  0.064034 -0.196029 -0.790183  1.329160\n",
       "978  0.388433 -0.693528  0.158885 -1.576598\n",
       "979 -0.188737  0.951674 -0.343251 -0.909537\n",
       "980  0.971592 -1.939364  0.829285 -0.221605\n",
       "981 -0.518474  1.237332 -0.166341  0.808910\n",
       "982 -1.099230  1.105209  1.369492 -0.529291\n",
       "983 -1.592271 -1.621636  0.050622  0.312629\n",
       "984 -2.606274 -0.722583  1.304872  0.850284\n",
       "985 -0.152623  0.058851  0.634327  0.346938\n",
       "986  0.003133  0.236820 -0.386014  1.120876\n",
       "987  1.833109 -0.222317 -1.068465 -0.453893\n",
       "988  2.487311 -2.001306 -0.832336  1.756106\n",
       "989  2.043774 -1.660305  2.253986  0.251617\n",
       "990  0.012130 -1.223591  0.246740 -0.685018\n",
       "991  1.630914  0.160394 -0.281570 -0.216763\n",
       "992 -0.501756 -0.242726 -1.796611 -1.323418\n",
       "993  0.372079  1.039938 -1.564220 -1.012337\n",
       "994  0.324526 -1.007482 -0.667711  0.046132\n",
       "995  1.269518  0.439448 -0.281279  0.962341\n",
       "996 -0.706903 -1.767376 -0.127548 -0.977523\n",
       "997 -0.790737 -1.430248 -1.291311 -0.416880\n",
       "998 -1.167470  0.078721 -1.212204  1.091605\n",
       "999  0.271186 -0.705960  0.097968  1.265749\n",
       "\n",
       "[1000 rows x 4 columns]"
      ]
     },
     "execution_count": 84,
     "metadata": {},
     "output_type": "execute_result"
    }
   ],
   "source": [
    "# Dataframes can be produced directly from numpy\n",
    "# 2-D arrays.\n",
    "\n",
    "df = pd.DataFrame(np.random.randn(1000, 4))\n",
    "df"
   ]
  },
  {
   "cell_type": "code",
   "execution_count": 85,
   "metadata": {},
   "outputs": [
    {
     "data": {
      "text/plain": [
       "<matplotlib.axes._subplots.AxesSubplot at 0x110874518>"
      ]
     },
     "execution_count": 85,
     "metadata": {},
     "output_type": "execute_result"
    },
    {
     "data": {
      "image/png": "[encoded data removed]",
      "text/plain": [
       "<matplotlib.figure.Figure at 0x110890c88>"
      ]
     },
     "metadata": {},
     "output_type": "display_data"
    }
   ],
   "source": [
    "# column labels can be provided by the columns attribute.\n",
    "\n",
    "df = pd.DataFrame(np.random.randn(1000, 4), columns=list('ABCD'))\n",
    "\n",
    "df = df.cumsum()\n",
    "\n",
    "df.plot()"
   ]
  },
  {
   "cell_type": "markdown",
   "metadata": {
    "collapsed": true
   },
   "source": [
    "#### Panel Datatype\n",
    "\n",
    "The panel datatype is a collection of dataframes in a 3-D array like data structure.  The panel datatype is depreceated in the latest versions of Pandas in favor of multi-indexed dataframes."
   ]
  },
  {
   "cell_type": "code",
   "execution_count": null,
   "metadata": {
    "collapsed": true
   },
   "outputs": [],
   "source": []
  }
 ],
 "metadata": {
  "kernelspec": {
   "display_name": "Python 3",
   "language": "python",
   "name": "python3"
  },
  "language_info": {
   "codemirror_mode": {
    "name": "ipython",
    "version": 3
   },
   "file_extension": ".py",
   "mimetype": "text/x-python",
   "name": "python",
   "nbconvert_exporter": "python",
   "pygments_lexer": "ipython3",
   "version": "3.6.1"
  }
 },
 "nbformat": 4,
 "nbformat_minor": 2
}
