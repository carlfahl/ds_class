{
 "cells": [
  {
   "cell_type": "markdown",
   "metadata": {},
   "source": [
    "### Apache Spark\n",
    "\n",
    "#### Installation\n",
    "\n",
    "##### MacOS\n",
    "\n",
    "with Homebrew:\n",
    "\n",
    "```\n",
    "brew install apache-spark\n",
    "```\n",
    "\n",
    "Find the location of the master and slave startup scripts (should be something like: `/usr/local/Cellar/apache-spark/<version>/libexec/bin`)\n",
    "\n",
    "\n",
    "Also need to find the location of the pyspark \n"
   ]
  },
  {
   "cell_type": "code",
   "execution_count": 2,
   "metadata": {},
   "outputs": [
    {
     "name": "stdout",
     "output_type": "stream",
     "text": [
      "['', '/Users/carlfahl/anaconda3/lib/python36.zip', '/Users/carlfahl/anaconda3/lib/python3.6', '/Users/carlfahl/anaconda3/lib/python3.6/lib-dynload', '/Users/carlfahl/anaconda3/lib/python3.6/site-packages', '/Users/carlfahl/anaconda3/lib/python3.6/site-packages/Sphinx-1.5.6-py3.6.egg', '/Users/carlfahl/anaconda3/lib/python3.6/site-packages/aeosa', '/Users/carlfahl/anaconda3/lib/python3.6/site-packages/setuptools-27.2.0-py3.6.egg', '/Users/carlfahl/anaconda3/lib/python3.6/site-packages/IPython/extensions', '/Users/carlfahl/.ipython']\n"
     ]
    }
   ],
   "source": [
    "import sys\n",
    "print(sys.path)\n",
    "sys.path.append('') # Add the path for the pyspark module.  "
   ]
  },
  {
   "cell_type": "code",
   "execution_count": 1,
   "metadata": {},
   "outputs": [
    {
     "ename": "ModuleNotFoundError",
     "evalue": "No module named 'pyspark'",
     "output_type": "error",
     "traceback": [
      "\u001b[0;31m---------------------------------------------------------------------------\u001b[0m",
      "\u001b[0;31mModuleNotFoundError\u001b[0m                       Traceback (most recent call last)",
      "\u001b[0;32m<ipython-input-1-c15ae3402d12>\u001b[0m in \u001b[0;36m<module>\u001b[0;34m()\u001b[0m\n\u001b[0;32m----> 1\u001b[0;31m \u001b[0;32mimport\u001b[0m \u001b[0mpyspark\u001b[0m\u001b[0;34m\u001b[0m\u001b[0m\n\u001b[0m",
      "\u001b[0;31mModuleNotFoundError\u001b[0m: No module named 'pyspark'"
     ]
    }
   ],
   "source": [
    "import pyspark"
   ]
  },
  {
   "cell_type": "code",
   "execution_count": null,
   "metadata": {
    "collapsed": true
   },
   "outputs": [],
   "source": []
  }
 ],
 "metadata": {
  "kernelspec": {
   "display_name": "Python 3",
   "language": "python",
   "name": "python3"
  },
  "language_info": {
   "codemirror_mode": {
    "name": "ipython",
    "version": 3
   },
   "file_extension": ".py",
   "mimetype": "text/x-python",
   "name": "python",
   "nbconvert_exporter": "python",
   "pygments_lexer": "ipython3",
   "version": "3.6.1"
  }
 },
 "nbformat": 4,
 "nbformat_minor": 2
}
